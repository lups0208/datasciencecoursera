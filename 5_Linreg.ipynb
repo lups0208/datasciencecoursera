{
  "nbformat": 4,
  "nbformat_minor": 0,
  "metadata": {
    "colab": {
      "name": "5_Linreg.ipynb",
      "provenance": [],
      "collapsed_sections": [],
      "include_colab_link": true
    },
    "kernelspec": {
      "name": "python3",
      "display_name": "Python 3"
    },
    "language_info": {
      "name": "python"
    }
  },
  "cells": [
    {
      "cell_type": "markdown",
      "metadata": {
        "id": "view-in-github",
        "colab_type": "text"
      },
      "source": [
        "<a href=\"https://colab.research.google.com/github/lups0208/datasciencecoursera/blob/master/5_Linreg.ipynb\" target=\"_parent\"><img src=\"https://colab.research.google.com/assets/colab-badge.svg\" alt=\"Open In Colab\"/></a>"
      ]
    },
    {
      "cell_type": "markdown",
      "metadata": {
        "id": "7JDdB5GVsaK0"
      },
      "source": [
        "# Análisis PML por GCR"
      ]
    },
    {
      "cell_type": "markdown",
      "metadata": {
        "id": "I-TsPPeKkKCW"
      },
      "source": [
        "Tengo los archivos que utilizaremos en mi github. Los cuales se obtuvieron al final del cuaderno 4 (cong & pml) y cuaderno 2 (gcr)"
      ]
    },
    {
      "cell_type": "code",
      "metadata": {
        "id": "hpDXL_Z8pUh_"
      },
      "source": [
        "cong_path = 'https://github.com/IvanMGro/CENACE/raw/main/congzona.xlsx'\n",
        "pml_path =  'https://github.com/IvanMGro/CENACE/raw/main/pmlzona.xlsx'\n",
        "gcr_path =  'https://github.com/IvanMGro/CENACE/raw/main/zona_gcr.xlsx'"
      ],
      "execution_count": null,
      "outputs": []
    },
    {
      "cell_type": "markdown",
      "metadata": {
        "id": "ti9SbBrnkY10"
      },
      "source": [
        "Las gráficas del ejercicio anterior, no es una buena forma de visualizar y analizar el mercado. Lo más común es segmentar y comparar precios por regiones (GCR), "
      ]
    },
    {
      "cell_type": "code",
      "metadata": {
        "id": "BQinXusekFC1"
      },
      "source": [
        ""
      ],
      "execution_count": null,
      "outputs": []
    },
    {
      "cell_type": "markdown",
      "metadata": {
        "id": "JUwRjwMKlGod"
      },
      "source": [
        "Con la función ```merge()```puedo combinar mi dataframe con pmls y congestion. Para que esta función no me de error, debo procurar que ambos dataframes que estoy por combinar, tengan una columna en común, en este caso es la columna zona de carga"
      ]
    },
    {
      "cell_type": "code",
      "metadata": {
        "id": "j5nBceO1lOUC"
      },
      "source": [
        ""
      ],
      "execution_count": null,
      "outputs": []
    },
    {
      "cell_type": "code",
      "metadata": {
        "id": "y_RTAub9l3BU"
      },
      "source": [
        ""
      ],
      "execution_count": null,
      "outputs": []
    },
    {
      "cell_type": "code",
      "metadata": {
        "id": "8ZUIr-pEmCaS"
      },
      "source": [
        ""
      ],
      "execution_count": null,
      "outputs": []
    },
    {
      "cell_type": "markdown",
      "metadata": {
        "id": "oX3RkC44mRiP"
      },
      "source": [
        "Voy añadir una nueva columna en mi dataframe donde solo tendré mes y año"
      ]
    },
    {
      "cell_type": "code",
      "metadata": {
        "id": "3f0pbH-VmWcF"
      },
      "source": [
        ""
      ],
      "execution_count": null,
      "outputs": []
    },
    {
      "cell_type": "markdown",
      "metadata": {
        "id": "G_1xMY77nA5n"
      },
      "source": [
        "Hacemos el promedio mensual por GCR. Al aplicar la función ```.groupby()``` obtenemos un tipo de estructura de dato llamado 'data series' . Usamos la función ```reset_index()``` para regresarlo como al formato de 'dataframe'"
      ]
    },
    {
      "cell_type": "code",
      "metadata": {
        "id": "8ELpOdMynEbk"
      },
      "source": [
        ""
      ],
      "execution_count": null,
      "outputs": []
    },
    {
      "cell_type": "code",
      "metadata": {
        "id": "O_58dacbrqGI"
      },
      "source": [
        ""
      ],
      "execution_count": null,
      "outputs": []
    },
    {
      "cell_type": "markdown",
      "source": [
        "Con la función ```.pivot``` obtenemos una tabla donde cada fila representa un GCR, cada columna un mes y los valores de la tabla son los PML"
      ],
      "metadata": {
        "id": "Tbk9ExtqP5Bm"
      }
    },
    {
      "cell_type": "code",
      "metadata": {
        "id": "6beV822qnYEQ"
      },
      "source": [
        ""
      ],
      "execution_count": null,
      "outputs": []
    },
    {
      "cell_type": "code",
      "metadata": {
        "id": "r5reM32lnmQs"
      },
      "source": [
        ""
      ],
      "execution_count": null,
      "outputs": []
    },
    {
      "cell_type": "code",
      "metadata": {
        "id": "yo15LRLRnzrk"
      },
      "source": [
        ""
      ],
      "execution_count": null,
      "outputs": []
    },
    {
      "cell_type": "markdown",
      "metadata": {
        "id": "F8KTmY8WsVox"
      },
      "source": [
        "# Regresión Lineal"
      ]
    },
    {
      "cell_type": "markdown",
      "metadata": {
        "id": "uUu1fdBFuGCz"
      },
      "source": [
        "Una regresión lineal busca hallar aquella recta que mejor se ajuste a una serie de puntos (x,y). Es decir, buscamos aquella recta $ y = mx + b$ con coeficientes $m$ y $b$ que mejor se ajuste a nuestros datos. Realizaremos un analisis sobre la relación entre el PML y la congestión. Obtendremos el promedio anual del PML por cada zona de carga. "
      ]
    },
    {
      "cell_type": "code",
      "metadata": {
        "id": "allzaLOUpQuM"
      },
      "source": [
        ""
      ],
      "execution_count": null,
      "outputs": []
    },
    {
      "cell_type": "markdown",
      "metadata": {
        "id": "7Elj66s4tRBn"
      },
      "source": [
        "Obtenemos el promedio anual de la congestión por cada zona de carga"
      ]
    },
    {
      "cell_type": "code",
      "metadata": {
        "id": "E8fqV1lOpdxr"
      },
      "source": [
        ""
      ],
      "execution_count": null,
      "outputs": []
    },
    {
      "cell_type": "markdown",
      "metadata": {
        "id": "JkfNCyN-tf2f"
      },
      "source": [
        "Combinamos los dos dataframes en uno solo"
      ]
    },
    {
      "cell_type": "code",
      "metadata": {
        "id": "ScRIH6rmqtka"
      },
      "source": [
        ""
      ],
      "execution_count": null,
      "outputs": []
    },
    {
      "cell_type": "markdown",
      "metadata": {
        "id": "r_wNmX09q9LD"
      },
      "source": [
        "Podemos crear una gráfica de la regresión lineal de manera rápida con la paquetería seaborn mediante ```sns.lmplot()```, pero no podemos acceder a los valores de los coeficientes ```m``` y ```b```"
      ]
    },
    {
      "cell_type": "code",
      "metadata": {
        "id": "9Khq9M9srA4T"
      },
      "source": [
        ""
      ],
      "execution_count": null,
      "outputs": []
    },
    {
      "cell_type": "code",
      "metadata": {
        "id": "gs2ddYI1remQ"
      },
      "source": [
        ""
      ],
      "execution_count": null,
      "outputs": []
    },
    {
      "cell_type": "markdown",
      "metadata": {
        "id": "0zLnkem0sM6Y"
      },
      "source": [
        "con la función reshape, el -1 dice que nuestra matriz tiene un número de ```n``` filas, y el 1 indica que es de 1 columna"
      ]
    },
    {
      "cell_type": "code",
      "metadata": {
        "id": "Rhz4p1LprwSS"
      },
      "source": [
        ""
      ],
      "execution_count": null,
      "outputs": []
    },
    {
      "cell_type": "code",
      "metadata": {
        "id": "bSb4Ttr4s3ks"
      },
      "source": [
        ""
      ],
      "execution_count": null,
      "outputs": []
    },
    {
      "cell_type": "code",
      "metadata": {
        "id": "b3Lnz5BRtQmE"
      },
      "source": [
        ""
      ],
      "execution_count": null,
      "outputs": []
    },
    {
      "cell_type": "code",
      "metadata": {
        "id": "dzedz9N5tjSV"
      },
      "source": [
        ""
      ],
      "execution_count": null,
      "outputs": []
    },
    {
      "cell_type": "markdown",
      "source": [
        "Graficamos con matplotlib"
      ],
      "metadata": {
        "id": "SYdeybsBQaQ5"
      }
    },
    {
      "cell_type": "code",
      "metadata": {
        "id": "bmhnKprNuDJl"
      },
      "source": [
        ""
      ],
      "execution_count": null,
      "outputs": []
    },
    {
      "cell_type": "code",
      "metadata": {
        "id": "0qBaSFQKuJA1"
      },
      "source": [
        ""
      ],
      "execution_count": null,
      "outputs": []
    },
    {
      "cell_type": "markdown",
      "metadata": {
        "id": "tgw_TwNgrBU1"
      },
      "source": [
        "Estadísticas de una regresión lineal. Observamos que arrojan los mismos resultados haciendo uso de la librería de estadística ```statsmodel```\n",
        "\n",
        "*   Regresión Scikitlearn: m=1.6687 b=576.8303\n",
        "*   Regresión Statsmodel : m=1.6687 b=576.8303 (columna ```coef```)\n",
        "\n",
        "\n"
      ]
    },
    {
      "cell_type": "code",
      "metadata": {
        "id": "2-6a9FKwrIGJ"
      },
      "source": [
        ""
      ],
      "execution_count": null,
      "outputs": []
    }
  ]
}