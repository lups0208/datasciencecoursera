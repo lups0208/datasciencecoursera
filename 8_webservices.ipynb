{
  "nbformat": 4,
  "nbformat_minor": 0,
  "metadata": {
    "colab": {
      "name": "8_webservices.ipynb",
      "provenance": [],
      "collapsed_sections": [],
      "include_colab_link": true
    },
    "kernelspec": {
      "name": "python3",
      "display_name": "Python 3"
    },
    "language_info": {
      "name": "python"
    }
  },
  "cells": [
    {
      "cell_type": "markdown",
      "metadata": {
        "id": "view-in-github",
        "colab_type": "text"
      },
      "source": [
        "<a href=\"https://colab.research.google.com/github/lups0208/datasciencecoursera/blob/master/8_webservices.ipynb\" target=\"_parent\"><img src=\"https://colab.research.google.com/assets/colab-badge.svg\" alt=\"Open In Colab\"/></a>"
      ]
    },
    {
      "cell_type": "markdown",
      "metadata": {
        "id": "JcrjHkQDLhpM"
      },
      "source": [
        "# Desglose"
      ]
    },
    {
      "cell_type": "code",
      "metadata": {
        "id": "ZVVjvgqt8Wq0"
      },
      "source": [
        "import requests\n",
        "import pandas as pd"
      ],
      "execution_count": null,
      "outputs": []
    },
    {
      "cell_type": "markdown",
      "metadata": {
        "id": "vQ_tVlJ-3Deq"
      },
      "source": [
        "Input data"
      ]
    },
    {
      "cell_type": "code",
      "metadata": {
        "id": "JzxfcIKZ3Ehy"
      },
      "source": [
        "base_url = 'https://ws01.cenace.gob.mx:8082/SWPEND/SIM/SIN/MDA'\n",
        "zona = 'MONTERREY'\n",
        "año_i = '2021'\n",
        "mes_i = '02'\n",
        "dia_i = '14'\n",
        "año_f = '2021'\n",
        "mes_f = '02'\n",
        "dia_f = '20'"
      ],
      "execution_count": null,
      "outputs": []
    },
    {
      "cell_type": "markdown",
      "metadata": {
        "id": "SgYeIEPw8I9K"
      },
      "source": [
        "Hacemos una concatenación de los valores definidos previamente en una variable llamada ```peticion``` y se la damos como argumento a la función ```requests.get```"
      ]
    },
    {
      "cell_type": "code",
      "metadata": {
        "colab": {
          "base_uri": "https://localhost:8080/"
        },
        "id": "qG4FGZLt0kI5",
        "outputId": "8a8cb8b5-4b31-4ef1-ba85-323eb2319758"
      },
      "source": [
        "peticion = base_url + '/' + zona + '/' + año_i + '/' + mes_i + '/' + dia_i + '/' + año_f + '/' + mes_f + '/' + dia_f + '/JSON'\n",
        "response = requests.get(peticion)\n",
        "response"
      ],
      "execution_count": null,
      "outputs": [
        {
          "output_type": "execute_result",
          "data": {
            "text/plain": [
              "<Response [200]>"
            ]
          },
          "metadata": {},
          "execution_count": 32
        }
      ]
    },
    {
      "cell_type": "markdown",
      "metadata": {
        "id": "HvEVE3O4X0sh"
      },
      "source": [
        "200 simboliza que la petición tiene un status \"OK\", por lo que fue procesada correctamente "
      ]
    },
    {
      "cell_type": "code",
      "metadata": {
        "colab": {
          "base_uri": "https://localhost:8080/"
        },
        "id": "lpQzPMoD3wTG",
        "outputId": "47fe73ef-b4d3-4eae-db4d-1606d8b76b23"
      },
      "source": [
        "type(response)"
      ],
      "execution_count": null,
      "outputs": [
        {
          "output_type": "execute_result",
          "data": {
            "text/plain": [
              "requests.models.Response"
            ]
          },
          "metadata": {},
          "execution_count": 33
        }
      ]
    },
    {
      "cell_type": "markdown",
      "metadata": {
        "id": "1c4xVdxK3zfw"
      },
      "source": [
        "Método para obtener un archivo JSON con la respuesta de nuestra petición. Observamos que es una estructura de diccionarios"
      ]
    },
    {
      "cell_type": "code",
      "metadata": {
        "id": "x5Xbkrn83pPh"
      },
      "source": [
        "x = response.json()\n",
        "x"
      ],
      "execution_count": null,
      "outputs": []
    },
    {
      "cell_type": "markdown",
      "metadata": {
        "id": "9B2EXAsV8nJu"
      },
      "source": [
        "Inspeccionamos los indices de este diccionario"
      ]
    },
    {
      "cell_type": "code",
      "metadata": {
        "colab": {
          "base_uri": "https://localhost:8080/"
        },
        "id": "qEBaixSB4uk9",
        "outputId": "09628fa6-1d8d-4641-b2c2-9bd7f3df2772"
      },
      "source": [
        "x.keys()"
      ],
      "execution_count": null,
      "outputs": [
        {
          "output_type": "execute_result",
          "data": {
            "text/plain": [
              "dict_keys(['status', 'nombre', 'proceso', 'sistema', 'area', 'Resultados'])"
            ]
          },
          "metadata": {},
          "execution_count": 36
        }
      ]
    },
    {
      "cell_type": "markdown",
      "metadata": {
        "id": "wUhLKZ2-8qv_"
      },
      "source": [
        "Los valores que nos interesan estan dentro del índice ```Resultados```"
      ]
    },
    {
      "cell_type": "code",
      "metadata": {
        "id": "3b0ijSn95SZ9",
        "colab": {
          "base_uri": "https://localhost:8080/"
        },
        "outputId": "d6030547-f8ff-43ab-9170-af61eb8dd6b3"
      },
      "source": [
        "type(x['Resultados'])"
      ],
      "execution_count": null,
      "outputs": [
        {
          "output_type": "execute_result",
          "data": {
            "text/plain": [
              "list"
            ]
          },
          "metadata": {},
          "execution_count": 38
        }
      ]
    },
    {
      "cell_type": "markdown",
      "metadata": {
        "id": "LTl6KNkx83a3"
      },
      "source": [
        "El cuál es una lista de un solo elemento"
      ]
    },
    {
      "cell_type": "code",
      "metadata": {
        "colab": {
          "base_uri": "https://localhost:8080/"
        },
        "id": "pG4ffsDc5YTI",
        "outputId": "bc1a6559-9987-4e19-f030-fed04aa7216c"
      },
      "source": [
        "len(x['Resultados'])"
      ],
      "execution_count": null,
      "outputs": [
        {
          "output_type": "execute_result",
          "data": {
            "text/plain": [
              "1"
            ]
          },
          "metadata": {},
          "execution_count": 39
        }
      ]
    },
    {
      "cell_type": "code",
      "metadata": {
        "colab": {
          "base_uri": "https://localhost:8080/"
        },
        "id": "b2-ZSceh9zZs",
        "outputId": "07e4d7f2-41bf-4085-cad4-c96c321bd5c1"
      },
      "source": [
        "type(x['Resultados'][0])"
      ],
      "execution_count": null,
      "outputs": [
        {
          "output_type": "execute_result",
          "data": {
            "text/plain": [
              "dict"
            ]
          },
          "metadata": {},
          "execution_count": 40
        }
      ]
    },
    {
      "cell_type": "markdown",
      "metadata": {
        "id": "I2l1cB3w86g_"
      },
      "source": [
        "El primer y único elemento es un diccionario"
      ]
    },
    {
      "cell_type": "markdown",
      "metadata": {
        "id": "ZUYSXhoP-Bw4"
      },
      "source": [
        "Guardamos en una variable llamada ```results``` este único diccionario\n"
      ]
    },
    {
      "cell_type": "code",
      "metadata": {
        "id": "arvZhwHI5fTF",
        "colab": {
          "base_uri": "https://localhost:8080/"
        },
        "outputId": "348e0827-fde9-41b4-bf0b-6ebd103da8a7"
      },
      "source": [
        "results = x['Resultados'][0]\n",
        "results.keys()"
      ],
      "execution_count": null,
      "outputs": [
        {
          "output_type": "execute_result",
          "data": {
            "text/plain": [
              "dict_keys(['zona_carga', 'Valores'])"
            ]
          },
          "metadata": {},
          "execution_count": 43
        }
      ]
    },
    {
      "cell_type": "code",
      "metadata": {
        "id": "6OtLFNb95rUq"
      },
      "source": [
        "results['Valores']"
      ],
      "execution_count": null,
      "outputs": []
    },
    {
      "cell_type": "markdown",
      "metadata": {
        "id": "319rFSni-wiU"
      },
      "source": [
        "Vemos que tiene dos índices este diccionario"
      ]
    },
    {
      "cell_type": "code",
      "metadata": {
        "colab": {
          "base_uri": "https://localhost:8080/",
          "height": 424
        },
        "id": "d4PA6hb66VC0",
        "outputId": "cd1313e3-15aa-4bea-eea1-5bfe2d5e49ff"
      },
      "source": [
        "pml_df = pd.DataFrame(results['Valores'])\n",
        "pml_df"
      ],
      "execution_count": null,
      "outputs": [
        {
          "output_type": "execute_result",
          "data": {
            "text/html": [
              "\n",
              "  <div id=\"df-22f6582f-e750-4f5b-a0e8-a11f0407810e\">\n",
              "    <div class=\"colab-df-container\">\n",
              "      <div>\n",
              "<style scoped>\n",
              "    .dataframe tbody tr th:only-of-type {\n",
              "        vertical-align: middle;\n",
              "    }\n",
              "\n",
              "    .dataframe tbody tr th {\n",
              "        vertical-align: top;\n",
              "    }\n",
              "\n",
              "    .dataframe thead th {\n",
              "        text-align: right;\n",
              "    }\n",
              "</style>\n",
              "<table border=\"1\" class=\"dataframe\">\n",
              "  <thead>\n",
              "    <tr style=\"text-align: right;\">\n",
              "      <th></th>\n",
              "      <th>fecha</th>\n",
              "      <th>hora</th>\n",
              "      <th>pz</th>\n",
              "      <th>pz_ene</th>\n",
              "      <th>pz_per</th>\n",
              "      <th>pz_cng</th>\n",
              "    </tr>\n",
              "  </thead>\n",
              "  <tbody>\n",
              "    <tr>\n",
              "      <th>0</th>\n",
              "      <td>2021-02-14</td>\n",
              "      <td>1</td>\n",
              "      <td>2282.35</td>\n",
              "      <td>2538.18</td>\n",
              "      <td>-255.83</td>\n",
              "      <td>0</td>\n",
              "    </tr>\n",
              "    <tr>\n",
              "      <th>1</th>\n",
              "      <td>2021-02-14</td>\n",
              "      <td>2</td>\n",
              "      <td>2082.26</td>\n",
              "      <td>2320.76</td>\n",
              "      <td>-238.5</td>\n",
              "      <td>0</td>\n",
              "    </tr>\n",
              "    <tr>\n",
              "      <th>2</th>\n",
              "      <td>2021-02-14</td>\n",
              "      <td>3</td>\n",
              "      <td>1827.4</td>\n",
              "      <td>2034.81</td>\n",
              "      <td>-207.41</td>\n",
              "      <td>0</td>\n",
              "    </tr>\n",
              "    <tr>\n",
              "      <th>3</th>\n",
              "      <td>2021-02-14</td>\n",
              "      <td>4</td>\n",
              "      <td>1765.2</td>\n",
              "      <td>1955.95</td>\n",
              "      <td>-190.74</td>\n",
              "      <td>0</td>\n",
              "    </tr>\n",
              "    <tr>\n",
              "      <th>4</th>\n",
              "      <td>2021-02-14</td>\n",
              "      <td>5</td>\n",
              "      <td>1715.73</td>\n",
              "      <td>1911.93</td>\n",
              "      <td>-196.19</td>\n",
              "      <td>0</td>\n",
              "    </tr>\n",
              "    <tr>\n",
              "      <th>...</th>\n",
              "      <td>...</td>\n",
              "      <td>...</td>\n",
              "      <td>...</td>\n",
              "      <td>...</td>\n",
              "      <td>...</td>\n",
              "      <td>...</td>\n",
              "    </tr>\n",
              "    <tr>\n",
              "      <th>163</th>\n",
              "      <td>2021-02-20</td>\n",
              "      <td>20</td>\n",
              "      <td>1573.97</td>\n",
              "      <td>1819.95</td>\n",
              "      <td>-164.13</td>\n",
              "      <td>-81.85</td>\n",
              "    </tr>\n",
              "    <tr>\n",
              "      <th>164</th>\n",
              "      <td>2021-02-20</td>\n",
              "      <td>21</td>\n",
              "      <td>1465.4</td>\n",
              "      <td>1666.44</td>\n",
              "      <td>-151</td>\n",
              "      <td>-50.04</td>\n",
              "    </tr>\n",
              "    <tr>\n",
              "      <th>165</th>\n",
              "      <td>2021-02-20</td>\n",
              "      <td>22</td>\n",
              "      <td>1385.55</td>\n",
              "      <td>1571.77</td>\n",
              "      <td>-152.26</td>\n",
              "      <td>-33.97</td>\n",
              "    </tr>\n",
              "    <tr>\n",
              "      <th>166</th>\n",
              "      <td>2021-02-20</td>\n",
              "      <td>23</td>\n",
              "      <td>1300.52</td>\n",
              "      <td>1528.74</td>\n",
              "      <td>-151.08</td>\n",
              "      <td>-77.14</td>\n",
              "    </tr>\n",
              "    <tr>\n",
              "      <th>167</th>\n",
              "      <td>2021-02-20</td>\n",
              "      <td>24</td>\n",
              "      <td>1139.39</td>\n",
              "      <td>1311.62</td>\n",
              "      <td>-117.02</td>\n",
              "      <td>-55.21</td>\n",
              "    </tr>\n",
              "  </tbody>\n",
              "</table>\n",
              "<p>168 rows × 6 columns</p>\n",
              "</div>\n",
              "      <button class=\"colab-df-convert\" onclick=\"convertToInteractive('df-22f6582f-e750-4f5b-a0e8-a11f0407810e')\"\n",
              "              title=\"Convert this dataframe to an interactive table.\"\n",
              "              style=\"display:none;\">\n",
              "        \n",
              "  <svg xmlns=\"http://www.w3.org/2000/svg\" height=\"24px\"viewBox=\"0 0 24 24\"\n",
              "       width=\"24px\">\n",
              "    <path d=\"M0 0h24v24H0V0z\" fill=\"none\"/>\n",
              "    <path d=\"M18.56 5.44l.94 2.06.94-2.06 2.06-.94-2.06-.94-.94-2.06-.94 2.06-2.06.94zm-11 1L8.5 8.5l.94-2.06 2.06-.94-2.06-.94L8.5 2.5l-.94 2.06-2.06.94zm10 10l.94 2.06.94-2.06 2.06-.94-2.06-.94-.94-2.06-.94 2.06-2.06.94z\"/><path d=\"M17.41 7.96l-1.37-1.37c-.4-.4-.92-.59-1.43-.59-.52 0-1.04.2-1.43.59L10.3 9.45l-7.72 7.72c-.78.78-.78 2.05 0 2.83L4 21.41c.39.39.9.59 1.41.59.51 0 1.02-.2 1.41-.59l7.78-7.78 2.81-2.81c.8-.78.8-2.07 0-2.86zM5.41 20L4 18.59l7.72-7.72 1.47 1.35L5.41 20z\"/>\n",
              "  </svg>\n",
              "      </button>\n",
              "      \n",
              "  <style>\n",
              "    .colab-df-container {\n",
              "      display:flex;\n",
              "      flex-wrap:wrap;\n",
              "      gap: 12px;\n",
              "    }\n",
              "\n",
              "    .colab-df-convert {\n",
              "      background-color: #E8F0FE;\n",
              "      border: none;\n",
              "      border-radius: 50%;\n",
              "      cursor: pointer;\n",
              "      display: none;\n",
              "      fill: #1967D2;\n",
              "      height: 32px;\n",
              "      padding: 0 0 0 0;\n",
              "      width: 32px;\n",
              "    }\n",
              "\n",
              "    .colab-df-convert:hover {\n",
              "      background-color: #E2EBFA;\n",
              "      box-shadow: 0px 1px 2px rgba(60, 64, 67, 0.3), 0px 1px 3px 1px rgba(60, 64, 67, 0.15);\n",
              "      fill: #174EA6;\n",
              "    }\n",
              "\n",
              "    [theme=dark] .colab-df-convert {\n",
              "      background-color: #3B4455;\n",
              "      fill: #D2E3FC;\n",
              "    }\n",
              "\n",
              "    [theme=dark] .colab-df-convert:hover {\n",
              "      background-color: #434B5C;\n",
              "      box-shadow: 0px 1px 3px 1px rgba(0, 0, 0, 0.15);\n",
              "      filter: drop-shadow(0px 1px 2px rgba(0, 0, 0, 0.3));\n",
              "      fill: #FFFFFF;\n",
              "    }\n",
              "  </style>\n",
              "\n",
              "      <script>\n",
              "        const buttonEl =\n",
              "          document.querySelector('#df-22f6582f-e750-4f5b-a0e8-a11f0407810e button.colab-df-convert');\n",
              "        buttonEl.style.display =\n",
              "          google.colab.kernel.accessAllowed ? 'block' : 'none';\n",
              "\n",
              "        async function convertToInteractive(key) {\n",
              "          const element = document.querySelector('#df-22f6582f-e750-4f5b-a0e8-a11f0407810e');\n",
              "          const dataTable =\n",
              "            await google.colab.kernel.invokeFunction('convertToInteractive',\n",
              "                                                     [key], {});\n",
              "          if (!dataTable) return;\n",
              "\n",
              "          const docLinkHtml = 'Like what you see? Visit the ' +\n",
              "            '<a target=\"_blank\" href=https://colab.research.google.com/notebooks/data_table.ipynb>data table notebook</a>'\n",
              "            + ' to learn more about interactive tables.';\n",
              "          element.innerHTML = '';\n",
              "          dataTable['output_type'] = 'display_data';\n",
              "          await google.colab.output.renderOutput(dataTable, element);\n",
              "          const docLink = document.createElement('div');\n",
              "          docLink.innerHTML = docLinkHtml;\n",
              "          element.appendChild(docLink);\n",
              "        }\n",
              "      </script>\n",
              "    </div>\n",
              "  </div>\n",
              "  "
            ],
            "text/plain": [
              "          fecha hora       pz   pz_ene   pz_per  pz_cng\n",
              "0    2021-02-14    1  2282.35  2538.18  -255.83       0\n",
              "1    2021-02-14    2  2082.26  2320.76   -238.5       0\n",
              "2    2021-02-14    3   1827.4  2034.81  -207.41       0\n",
              "3    2021-02-14    4   1765.2  1955.95  -190.74       0\n",
              "4    2021-02-14    5  1715.73  1911.93  -196.19       0\n",
              "..          ...  ...      ...      ...      ...     ...\n",
              "163  2021-02-20   20  1573.97  1819.95  -164.13  -81.85\n",
              "164  2021-02-20   21   1465.4  1666.44     -151  -50.04\n",
              "165  2021-02-20   22  1385.55  1571.77  -152.26  -33.97\n",
              "166  2021-02-20   23  1300.52  1528.74  -151.08  -77.14\n",
              "167  2021-02-20   24  1139.39  1311.62  -117.02  -55.21\n",
              "\n",
              "[168 rows x 6 columns]"
            ]
          },
          "metadata": {},
          "execution_count": 48
        }
      ]
    },
    {
      "cell_type": "markdown",
      "metadata": {
        "id": "pzsLhjXw-0hP"
      },
      "source": [
        "El índice que nos interesa es el de ```Valores```."
      ]
    },
    {
      "cell_type": "markdown",
      "metadata": {
        "id": "5vxu_I0q_bpo"
      },
      "source": [
        "Observamos el tipo de variable que tenemos en cada columna"
      ]
    },
    {
      "cell_type": "code",
      "metadata": {
        "id": "BVvXyCtG68VK",
        "colab": {
          "base_uri": "https://localhost:8080/"
        },
        "outputId": "21d51b74-cde2-40fc-e91e-c3e00d6a0da0"
      },
      "source": [
        "type(pml_df['fecha'][0])"
      ],
      "execution_count": null,
      "outputs": [
        {
          "output_type": "execute_result",
          "data": {
            "text/plain": [
              "pandas._libs.tslibs.timestamps.Timestamp"
            ]
          },
          "metadata": {},
          "execution_count": 56
        }
      ]
    },
    {
      "cell_type": "code",
      "metadata": {
        "colab": {
          "base_uri": "https://localhost:8080/"
        },
        "id": "H79GpSCV8d9v",
        "outputId": "2e821f63-e08b-4355-ead6-1e5d7874b2e2"
      },
      "source": [
        "type(pml_df['pz_ene'][0])"
      ],
      "execution_count": null,
      "outputs": [
        {
          "output_type": "execute_result",
          "data": {
            "text/plain": [
              "numpy.float64"
            ]
          },
          "metadata": {},
          "execution_count": 60
        }
      ]
    },
    {
      "cell_type": "code",
      "metadata": {
        "colab": {
          "base_uri": "https://localhost:8080/"
        },
        "id": "edc3HyOQ96jB",
        "outputId": "59b36c19-3621-4f2a-89d6-16f23eec39d8"
      },
      "source": [
        "type(pml_df['hora'][0])"
      ],
      "execution_count": null,
      "outputs": [
        {
          "output_type": "execute_result",
          "data": {
            "text/plain": [
              "str"
            ]
          },
          "metadata": {},
          "execution_count": 53
        }
      ]
    },
    {
      "cell_type": "markdown",
      "metadata": {
        "id": "ir5TmyiSAw13"
      },
      "source": [
        "Damos formato a nuestros datos"
      ]
    },
    {
      "cell_type": "code",
      "metadata": {
        "id": "gn06qZ_AAgeV",
        "colab": {
          "base_uri": "https://localhost:8080/",
          "height": 424
        },
        "outputId": "58125dad-ee47-4640-8eea-a9720853e4f4"
      },
      "source": [
        "pml_df['fecha']     = pd.to_datetime(pml_df['fecha'])\n",
        "pml_df['pz']        = pml_df['pz'].astype(float)\n",
        "pml_df['pz_ene']    = pml_df['pz_ene'].astype(float)\n",
        "pml_df['pz_cng']    = pml_df['pz_cng'].astype(float)\n",
        "pml_df['periodo']   = pml_df['fecha'].astype(str) + ' : H' + pml_df['hora'].astype(str)\n",
        "pml_df"
      ],
      "execution_count": null,
      "outputs": [
        {
          "output_type": "execute_result",
          "data": {
            "text/html": [
              "\n",
              "  <div id=\"df-3f0fd005-090a-4b67-86de-7969dc67f4ac\">\n",
              "    <div class=\"colab-df-container\">\n",
              "      <div>\n",
              "<style scoped>\n",
              "    .dataframe tbody tr th:only-of-type {\n",
              "        vertical-align: middle;\n",
              "    }\n",
              "\n",
              "    .dataframe tbody tr th {\n",
              "        vertical-align: top;\n",
              "    }\n",
              "\n",
              "    .dataframe thead th {\n",
              "        text-align: right;\n",
              "    }\n",
              "</style>\n",
              "<table border=\"1\" class=\"dataframe\">\n",
              "  <thead>\n",
              "    <tr style=\"text-align: right;\">\n",
              "      <th></th>\n",
              "      <th>fecha</th>\n",
              "      <th>hora</th>\n",
              "      <th>pz</th>\n",
              "      <th>pz_ene</th>\n",
              "      <th>pz_per</th>\n",
              "      <th>pz_cng</th>\n",
              "      <th>periodo</th>\n",
              "    </tr>\n",
              "  </thead>\n",
              "  <tbody>\n",
              "    <tr>\n",
              "      <th>0</th>\n",
              "      <td>2021-02-14</td>\n",
              "      <td>1</td>\n",
              "      <td>2282.35</td>\n",
              "      <td>2538.18</td>\n",
              "      <td>-255.83</td>\n",
              "      <td>0.00</td>\n",
              "      <td>2021-02-14 : H1</td>\n",
              "    </tr>\n",
              "    <tr>\n",
              "      <th>1</th>\n",
              "      <td>2021-02-14</td>\n",
              "      <td>2</td>\n",
              "      <td>2082.26</td>\n",
              "      <td>2320.76</td>\n",
              "      <td>-238.5</td>\n",
              "      <td>0.00</td>\n",
              "      <td>2021-02-14 : H2</td>\n",
              "    </tr>\n",
              "    <tr>\n",
              "      <th>2</th>\n",
              "      <td>2021-02-14</td>\n",
              "      <td>3</td>\n",
              "      <td>1827.40</td>\n",
              "      <td>2034.81</td>\n",
              "      <td>-207.41</td>\n",
              "      <td>0.00</td>\n",
              "      <td>2021-02-14 : H3</td>\n",
              "    </tr>\n",
              "    <tr>\n",
              "      <th>3</th>\n",
              "      <td>2021-02-14</td>\n",
              "      <td>4</td>\n",
              "      <td>1765.20</td>\n",
              "      <td>1955.95</td>\n",
              "      <td>-190.74</td>\n",
              "      <td>0.00</td>\n",
              "      <td>2021-02-14 : H4</td>\n",
              "    </tr>\n",
              "    <tr>\n",
              "      <th>4</th>\n",
              "      <td>2021-02-14</td>\n",
              "      <td>5</td>\n",
              "      <td>1715.73</td>\n",
              "      <td>1911.93</td>\n",
              "      <td>-196.19</td>\n",
              "      <td>0.00</td>\n",
              "      <td>2021-02-14 : H5</td>\n",
              "    </tr>\n",
              "    <tr>\n",
              "      <th>...</th>\n",
              "      <td>...</td>\n",
              "      <td>...</td>\n",
              "      <td>...</td>\n",
              "      <td>...</td>\n",
              "      <td>...</td>\n",
              "      <td>...</td>\n",
              "      <td>...</td>\n",
              "    </tr>\n",
              "    <tr>\n",
              "      <th>163</th>\n",
              "      <td>2021-02-20</td>\n",
              "      <td>20</td>\n",
              "      <td>1573.97</td>\n",
              "      <td>1819.95</td>\n",
              "      <td>-164.13</td>\n",
              "      <td>-81.85</td>\n",
              "      <td>2021-02-20 : H20</td>\n",
              "    </tr>\n",
              "    <tr>\n",
              "      <th>164</th>\n",
              "      <td>2021-02-20</td>\n",
              "      <td>21</td>\n",
              "      <td>1465.40</td>\n",
              "      <td>1666.44</td>\n",
              "      <td>-151</td>\n",
              "      <td>-50.04</td>\n",
              "      <td>2021-02-20 : H21</td>\n",
              "    </tr>\n",
              "    <tr>\n",
              "      <th>165</th>\n",
              "      <td>2021-02-20</td>\n",
              "      <td>22</td>\n",
              "      <td>1385.55</td>\n",
              "      <td>1571.77</td>\n",
              "      <td>-152.26</td>\n",
              "      <td>-33.97</td>\n",
              "      <td>2021-02-20 : H22</td>\n",
              "    </tr>\n",
              "    <tr>\n",
              "      <th>166</th>\n",
              "      <td>2021-02-20</td>\n",
              "      <td>23</td>\n",
              "      <td>1300.52</td>\n",
              "      <td>1528.74</td>\n",
              "      <td>-151.08</td>\n",
              "      <td>-77.14</td>\n",
              "      <td>2021-02-20 : H23</td>\n",
              "    </tr>\n",
              "    <tr>\n",
              "      <th>167</th>\n",
              "      <td>2021-02-20</td>\n",
              "      <td>24</td>\n",
              "      <td>1139.39</td>\n",
              "      <td>1311.62</td>\n",
              "      <td>-117.02</td>\n",
              "      <td>-55.21</td>\n",
              "      <td>2021-02-20 : H24</td>\n",
              "    </tr>\n",
              "  </tbody>\n",
              "</table>\n",
              "<p>168 rows × 7 columns</p>\n",
              "</div>\n",
              "      <button class=\"colab-df-convert\" onclick=\"convertToInteractive('df-3f0fd005-090a-4b67-86de-7969dc67f4ac')\"\n",
              "              title=\"Convert this dataframe to an interactive table.\"\n",
              "              style=\"display:none;\">\n",
              "        \n",
              "  <svg xmlns=\"http://www.w3.org/2000/svg\" height=\"24px\"viewBox=\"0 0 24 24\"\n",
              "       width=\"24px\">\n",
              "    <path d=\"M0 0h24v24H0V0z\" fill=\"none\"/>\n",
              "    <path d=\"M18.56 5.44l.94 2.06.94-2.06 2.06-.94-2.06-.94-.94-2.06-.94 2.06-2.06.94zm-11 1L8.5 8.5l.94-2.06 2.06-.94-2.06-.94L8.5 2.5l-.94 2.06-2.06.94zm10 10l.94 2.06.94-2.06 2.06-.94-2.06-.94-.94-2.06-.94 2.06-2.06.94z\"/><path d=\"M17.41 7.96l-1.37-1.37c-.4-.4-.92-.59-1.43-.59-.52 0-1.04.2-1.43.59L10.3 9.45l-7.72 7.72c-.78.78-.78 2.05 0 2.83L4 21.41c.39.39.9.59 1.41.59.51 0 1.02-.2 1.41-.59l7.78-7.78 2.81-2.81c.8-.78.8-2.07 0-2.86zM5.41 20L4 18.59l7.72-7.72 1.47 1.35L5.41 20z\"/>\n",
              "  </svg>\n",
              "      </button>\n",
              "      \n",
              "  <style>\n",
              "    .colab-df-container {\n",
              "      display:flex;\n",
              "      flex-wrap:wrap;\n",
              "      gap: 12px;\n",
              "    }\n",
              "\n",
              "    .colab-df-convert {\n",
              "      background-color: #E8F0FE;\n",
              "      border: none;\n",
              "      border-radius: 50%;\n",
              "      cursor: pointer;\n",
              "      display: none;\n",
              "      fill: #1967D2;\n",
              "      height: 32px;\n",
              "      padding: 0 0 0 0;\n",
              "      width: 32px;\n",
              "    }\n",
              "\n",
              "    .colab-df-convert:hover {\n",
              "      background-color: #E2EBFA;\n",
              "      box-shadow: 0px 1px 2px rgba(60, 64, 67, 0.3), 0px 1px 3px 1px rgba(60, 64, 67, 0.15);\n",
              "      fill: #174EA6;\n",
              "    }\n",
              "\n",
              "    [theme=dark] .colab-df-convert {\n",
              "      background-color: #3B4455;\n",
              "      fill: #D2E3FC;\n",
              "    }\n",
              "\n",
              "    [theme=dark] .colab-df-convert:hover {\n",
              "      background-color: #434B5C;\n",
              "      box-shadow: 0px 1px 3px 1px rgba(0, 0, 0, 0.15);\n",
              "      filter: drop-shadow(0px 1px 2px rgba(0, 0, 0, 0.3));\n",
              "      fill: #FFFFFF;\n",
              "    }\n",
              "  </style>\n",
              "\n",
              "      <script>\n",
              "        const buttonEl =\n",
              "          document.querySelector('#df-3f0fd005-090a-4b67-86de-7969dc67f4ac button.colab-df-convert');\n",
              "        buttonEl.style.display =\n",
              "          google.colab.kernel.accessAllowed ? 'block' : 'none';\n",
              "\n",
              "        async function convertToInteractive(key) {\n",
              "          const element = document.querySelector('#df-3f0fd005-090a-4b67-86de-7969dc67f4ac');\n",
              "          const dataTable =\n",
              "            await google.colab.kernel.invokeFunction('convertToInteractive',\n",
              "                                                     [key], {});\n",
              "          if (!dataTable) return;\n",
              "\n",
              "          const docLinkHtml = 'Like what you see? Visit the ' +\n",
              "            '<a target=\"_blank\" href=https://colab.research.google.com/notebooks/data_table.ipynb>data table notebook</a>'\n",
              "            + ' to learn more about interactive tables.';\n",
              "          element.innerHTML = '';\n",
              "          dataTable['output_type'] = 'display_data';\n",
              "          await google.colab.output.renderOutput(dataTable, element);\n",
              "          const docLink = document.createElement('div');\n",
              "          docLink.innerHTML = docLinkHtml;\n",
              "          element.appendChild(docLink);\n",
              "        }\n",
              "      </script>\n",
              "    </div>\n",
              "  </div>\n",
              "  "
            ],
            "text/plain": [
              "         fecha hora       pz   pz_ene   pz_per  pz_cng           periodo\n",
              "0   2021-02-14    1  2282.35  2538.18  -255.83    0.00   2021-02-14 : H1\n",
              "1   2021-02-14    2  2082.26  2320.76   -238.5    0.00   2021-02-14 : H2\n",
              "2   2021-02-14    3  1827.40  2034.81  -207.41    0.00   2021-02-14 : H3\n",
              "3   2021-02-14    4  1765.20  1955.95  -190.74    0.00   2021-02-14 : H4\n",
              "4   2021-02-14    5  1715.73  1911.93  -196.19    0.00   2021-02-14 : H5\n",
              "..         ...  ...      ...      ...      ...     ...               ...\n",
              "163 2021-02-20   20  1573.97  1819.95  -164.13  -81.85  2021-02-20 : H20\n",
              "164 2021-02-20   21  1465.40  1666.44     -151  -50.04  2021-02-20 : H21\n",
              "165 2021-02-20   22  1385.55  1571.77  -152.26  -33.97  2021-02-20 : H22\n",
              "166 2021-02-20   23  1300.52  1528.74  -151.08  -77.14  2021-02-20 : H23\n",
              "167 2021-02-20   24  1139.39  1311.62  -117.02  -55.21  2021-02-20 : H24\n",
              "\n",
              "[168 rows x 7 columns]"
            ]
          },
          "metadata": {},
          "execution_count": 62
        }
      ]
    },
    {
      "cell_type": "markdown",
      "metadata": {
        "id": "UPlF33kh_rxl"
      },
      "source": [
        "Finalmente podemos gráficar la información de este dataframe con ```plotly.express```"
      ]
    },
    {
      "cell_type": "code",
      "metadata": {
        "id": "wGzCHe0J-QTQ",
        "colab": {
          "base_uri": "https://localhost:8080/",
          "height": 542
        },
        "outputId": "8ed6c270-97d2-4af2-ef1c-a22a53ef5755"
      },
      "source": [
        "import plotly.express as px\n",
        "fig = px.line(pml_df, x='periodo',y='pz', title=zona)\n",
        "fig.show()"
      ],
      "execution_count": null,
      "outputs": [
        {
          "output_type": "display_data",
          "data": {
            "text/html": [
              "<html>\n",
              "<head><meta charset=\"utf-8\" /></head>\n",
              "<body>\n",
              "    <div>\n",
              "            <script src=\"https://cdnjs.cloudflare.com/ajax/libs/mathjax/2.7.5/MathJax.js?config=TeX-AMS-MML_SVG\"></script><script type=\"text/javascript\">if (window.MathJax) {MathJax.Hub.Config({SVG: {font: \"STIX-Web\"}});}</script>\n",
              "                <script type=\"text/javascript\">window.PlotlyConfig = {MathJaxConfig: 'local'};</script>\n",
              "        <script src=\"https://cdn.plot.ly/plotly-latest.min.js\"></script>    \n",
              "            <div id=\"e8c593da-e598-4746-a6e1-6cefe086030e\" class=\"plotly-graph-div\" style=\"height:525px; width:100%;\"></div>\n",
              "            <script type=\"text/javascript\">\n",
              "                \n",
              "                    window.PLOTLYENV=window.PLOTLYENV || {};\n",
              "                    \n",
              "                if (document.getElementById(\"e8c593da-e598-4746-a6e1-6cefe086030e\")) {\n",
              "                    Plotly.newPlot(\n",
              "                        'e8c593da-e598-4746-a6e1-6cefe086030e',\n",
              "                        [{\"hoverlabel\": {\"namelength\": 0}, \"hovertemplate\": \"periodo=%{x}<br>pz=%{y}\", \"legendgroup\": \"\", \"line\": {\"color\": \"#636efa\", \"dash\": \"solid\"}, \"mode\": \"lines\", \"name\": \"\", \"showlegend\": false, \"type\": \"scatter\", \"x\": [\"2021-02-14 : H1\", \"2021-02-14 : H2\", \"2021-02-14 : H3\", \"2021-02-14 : H4\", \"2021-02-14 : H5\", \"2021-02-14 : H6\", \"2021-02-14 : H7\", \"2021-02-14 : H8\", \"2021-02-14 : H9\", \"2021-02-14 : H10\", \"2021-02-14 : H11\", \"2021-02-14 : H12\", \"2021-02-14 : H13\", \"2021-02-14 : H14\", \"2021-02-14 : H15\", \"2021-02-14 : H16\", \"2021-02-14 : H17\", \"2021-02-14 : H18\", \"2021-02-14 : H19\", \"2021-02-14 : H20\", \"2021-02-14 : H21\", \"2021-02-14 : H22\", \"2021-02-14 : H23\", \"2021-02-14 : H24\", \"2021-02-15 : H1\", \"2021-02-15 : H2\", \"2021-02-15 : H3\", \"2021-02-15 : H4\", \"2021-02-15 : H5\", \"2021-02-15 : H6\", \"2021-02-15 : H7\", \"2021-02-15 : H8\", \"2021-02-15 : H9\", \"2021-02-15 : H10\", \"2021-02-15 : H11\", \"2021-02-15 : H12\", \"2021-02-15 : H13\", \"2021-02-15 : H14\", \"2021-02-15 : H15\", \"2021-02-15 : H16\", \"2021-02-15 : H17\", \"2021-02-15 : H18\", \"2021-02-15 : H19\", \"2021-02-15 : H20\", \"2021-02-15 : H21\", \"2021-02-15 : H22\", \"2021-02-15 : H23\", \"2021-02-15 : H24\", \"2021-02-16 : H1\", \"2021-02-16 : H2\", \"2021-02-16 : H3\", \"2021-02-16 : H4\", \"2021-02-16 : H5\", \"2021-02-16 : H6\", \"2021-02-16 : H7\", \"2021-02-16 : H8\", \"2021-02-16 : H9\", \"2021-02-16 : H10\", \"2021-02-16 : H11\", \"2021-02-16 : H12\", \"2021-02-16 : H13\", \"2021-02-16 : H14\", \"2021-02-16 : H15\", \"2021-02-16 : H16\", \"2021-02-16 : H17\", \"2021-02-16 : H18\", \"2021-02-16 : H19\", \"2021-02-16 : H20\", \"2021-02-16 : H21\", \"2021-02-16 : H22\", \"2021-02-16 : H23\", \"2021-02-16 : H24\", \"2021-02-17 : H1\", \"2021-02-17 : H2\", \"2021-02-17 : H3\", \"2021-02-17 : H4\", \"2021-02-17 : H5\", \"2021-02-17 : H6\", \"2021-02-17 : H7\", \"2021-02-17 : H8\", \"2021-02-17 : H9\", \"2021-02-17 : H10\", \"2021-02-17 : H11\", \"2021-02-17 : H12\", \"2021-02-17 : H13\", \"2021-02-17 : H14\", \"2021-02-17 : H15\", \"2021-02-17 : H16\", \"2021-02-17 : H17\", \"2021-02-17 : H18\", \"2021-02-17 : H19\", \"2021-02-17 : H20\", \"2021-02-17 : H21\", \"2021-02-17 : H22\", \"2021-02-17 : H23\", \"2021-02-17 : H24\", \"2021-02-18 : H1\", \"2021-02-18 : H2\", \"2021-02-18 : H3\", \"2021-02-18 : H4\", \"2021-02-18 : H5\", \"2021-02-18 : H6\", \"2021-02-18 : H7\", \"2021-02-18 : H8\", \"2021-02-18 : H9\", \"2021-02-18 : H10\", \"2021-02-18 : H11\", \"2021-02-18 : H12\", \"2021-02-18 : H13\", \"2021-02-18 : H14\", \"2021-02-18 : H15\", \"2021-02-18 : H16\", \"2021-02-18 : H17\", \"2021-02-18 : H18\", \"2021-02-18 : H19\", \"2021-02-18 : H20\", \"2021-02-18 : H21\", \"2021-02-18 : H22\", \"2021-02-18 : H23\", \"2021-02-18 : H24\", \"2021-02-19 : H1\", \"2021-02-19 : H2\", \"2021-02-19 : H3\", \"2021-02-19 : H4\", \"2021-02-19 : H5\", \"2021-02-19 : H6\", \"2021-02-19 : H7\", \"2021-02-19 : H8\", \"2021-02-19 : H9\", \"2021-02-19 : H10\", \"2021-02-19 : H11\", \"2021-02-19 : H12\", \"2021-02-19 : H13\", \"2021-02-19 : H14\", \"2021-02-19 : H15\", \"2021-02-19 : H16\", \"2021-02-19 : H17\", \"2021-02-19 : H18\", \"2021-02-19 : H19\", \"2021-02-19 : H20\", \"2021-02-19 : H21\", \"2021-02-19 : H22\", \"2021-02-19 : H23\", \"2021-02-19 : H24\", \"2021-02-20 : H1\", \"2021-02-20 : H2\", \"2021-02-20 : H3\", \"2021-02-20 : H4\", \"2021-02-20 : H5\", \"2021-02-20 : H6\", \"2021-02-20 : H7\", \"2021-02-20 : H8\", \"2021-02-20 : H9\", \"2021-02-20 : H10\", \"2021-02-20 : H11\", \"2021-02-20 : H12\", \"2021-02-20 : H13\", \"2021-02-20 : H14\", \"2021-02-20 : H15\", \"2021-02-20 : H16\", \"2021-02-20 : H17\", \"2021-02-20 : H18\", \"2021-02-20 : H19\", \"2021-02-20 : H20\", \"2021-02-20 : H21\", \"2021-02-20 : H22\", \"2021-02-20 : H23\", \"2021-02-20 : H24\"], \"xaxis\": \"x\", \"y\": [2282.35, 2082.26, 1827.4, 1765.2, 1715.73, 1681.8, 1709.39, 1615.16, 1562.91, 1493.28, 1485.59, 1468.02, 1464.24, 1428.74, 1442.07, 1396.12, 1402.95, 1407.13, 1409.92, 1476.46, 1548.84, 1497.5, 1497.71, 1493.56, 1661.78, 1551.94, 1490.73, 1475.02, 1476.2, 1531.72, 1637.05, 1818.91, 1862.61, 1756.24, 1682.06, 1766.46, 1796.0, 1729.43, 1746.26, 1912.35, 1932.32, 2020.01, 2250.22, 2709.67, 2408.96, 2403.27, 2328.09, 2220.46, 5642.7, 2370.2, 2111.17, 1977.1, 1886.19, 1917.22, 1979.49, 1999.72, 1955.04, 1793.62, 1783.28, 1760.95, 1724.21, 1785.96, 1797.17, 1749.12, 1764.0, 1824.4, 2006.14, 2056.38, 2030.99, 1910.57, 1971.3, 1863.48, 4211.61, 4176.89, 4220.16, 3940.85, 4093.24, 4119.11, 4042.19, 4043.75, 4021.79, 3949.9, 3818.72, 3940.13, 3087.48, 3542.71, 4027.45, 3995.77, 2903.66, 3999.14, 4090.04, 4333.88, 4727.63, 4149.7, 4116.01, 4014.29, 4314.32, 4148.14, 3639.36, 3639.35, 3726.8, 3727.97, 4718.57, 3825.94, 4049.29, 3622.47, 3555.45, 3645.24, 3613.58, 3527.72, 3548.07, 3525.3, 3558.84, 4043.8, 4142.08, 4634.05, 4755.7, 4143.83, 4653.51, 4252.58, 3105.12, 2401.68, 1948.16, 1915.46, 1905.58, 2009.77, 2644.17, 2975.38, 2431.67, 1720.67, 2362.88, 2420.58, 2445.27, 2295.51, 2073.58, 2413.51, 2372.57, 2518.32, 4064.02, 3835.08, 3216.77, 3150.1, 2979.44, 2976.63, 1956.7, 1928.79, 1836.86, 1761.56, 1720.39, 1695.77, 1860.88, 1815.49, 1670.62, 1123.71, 1249.35, 1192.65, 1035.81, 951.95, 894.13, 738.45, 734.23, 875.14, 1286.67, 1573.97, 1465.4, 1385.55, 1300.52, 1139.39], \"yaxis\": \"y\"}],\n",
              "                        {\"legend\": {\"tracegroupgap\": 0}, \"template\": {\"data\": {\"bar\": [{\"error_x\": {\"color\": \"#2a3f5f\"}, \"error_y\": {\"color\": \"#2a3f5f\"}, \"marker\": {\"line\": {\"color\": \"#E5ECF6\", \"width\": 0.5}}, \"type\": \"bar\"}], \"barpolar\": [{\"marker\": {\"line\": {\"color\": \"#E5ECF6\", \"width\": 0.5}}, \"type\": \"barpolar\"}], \"carpet\": [{\"aaxis\": {\"endlinecolor\": \"#2a3f5f\", \"gridcolor\": \"white\", \"linecolor\": \"white\", \"minorgridcolor\": \"white\", \"startlinecolor\": \"#2a3f5f\"}, \"baxis\": {\"endlinecolor\": \"#2a3f5f\", \"gridcolor\": \"white\", \"linecolor\": \"white\", \"minorgridcolor\": \"white\", \"startlinecolor\": \"#2a3f5f\"}, \"type\": \"carpet\"}], \"choropleth\": [{\"colorbar\": {\"outlinewidth\": 0, \"ticks\": \"\"}, \"type\": \"choropleth\"}], \"contour\": [{\"colorbar\": {\"outlinewidth\": 0, \"ticks\": \"\"}, \"colorscale\": [[0.0, \"#0d0887\"], [0.1111111111111111, \"#46039f\"], [0.2222222222222222, \"#7201a8\"], [0.3333333333333333, \"#9c179e\"], [0.4444444444444444, \"#bd3786\"], [0.5555555555555556, \"#d8576b\"], [0.6666666666666666, \"#ed7953\"], [0.7777777777777778, \"#fb9f3a\"], [0.8888888888888888, \"#fdca26\"], [1.0, \"#f0f921\"]], \"type\": \"contour\"}], \"contourcarpet\": [{\"colorbar\": {\"outlinewidth\": 0, \"ticks\": \"\"}, \"type\": \"contourcarpet\"}], \"heatmap\": [{\"colorbar\": {\"outlinewidth\": 0, \"ticks\": \"\"}, \"colorscale\": [[0.0, \"#0d0887\"], [0.1111111111111111, \"#46039f\"], [0.2222222222222222, \"#7201a8\"], [0.3333333333333333, \"#9c179e\"], [0.4444444444444444, \"#bd3786\"], [0.5555555555555556, \"#d8576b\"], [0.6666666666666666, \"#ed7953\"], [0.7777777777777778, \"#fb9f3a\"], [0.8888888888888888, \"#fdca26\"], [1.0, \"#f0f921\"]], \"type\": \"heatmap\"}], \"heatmapgl\": [{\"colorbar\": {\"outlinewidth\": 0, \"ticks\": \"\"}, \"colorscale\": [[0.0, \"#0d0887\"], [0.1111111111111111, \"#46039f\"], [0.2222222222222222, \"#7201a8\"], [0.3333333333333333, \"#9c179e\"], [0.4444444444444444, \"#bd3786\"], [0.5555555555555556, \"#d8576b\"], [0.6666666666666666, \"#ed7953\"], [0.7777777777777778, \"#fb9f3a\"], [0.8888888888888888, \"#fdca26\"], [1.0, \"#f0f921\"]], \"type\": \"heatmapgl\"}], \"histogram\": [{\"marker\": {\"colorbar\": {\"outlinewidth\": 0, \"ticks\": \"\"}}, \"type\": \"histogram\"}], \"histogram2d\": [{\"colorbar\": {\"outlinewidth\": 0, \"ticks\": \"\"}, \"colorscale\": [[0.0, \"#0d0887\"], [0.1111111111111111, \"#46039f\"], [0.2222222222222222, \"#7201a8\"], [0.3333333333333333, \"#9c179e\"], [0.4444444444444444, \"#bd3786\"], [0.5555555555555556, \"#d8576b\"], [0.6666666666666666, \"#ed7953\"], [0.7777777777777778, \"#fb9f3a\"], [0.8888888888888888, \"#fdca26\"], [1.0, \"#f0f921\"]], \"type\": \"histogram2d\"}], \"histogram2dcontour\": [{\"colorbar\": {\"outlinewidth\": 0, \"ticks\": \"\"}, \"colorscale\": [[0.0, \"#0d0887\"], [0.1111111111111111, \"#46039f\"], [0.2222222222222222, \"#7201a8\"], [0.3333333333333333, \"#9c179e\"], [0.4444444444444444, \"#bd3786\"], [0.5555555555555556, \"#d8576b\"], [0.6666666666666666, \"#ed7953\"], [0.7777777777777778, \"#fb9f3a\"], [0.8888888888888888, \"#fdca26\"], [1.0, \"#f0f921\"]], \"type\": \"histogram2dcontour\"}], \"mesh3d\": [{\"colorbar\": {\"outlinewidth\": 0, \"ticks\": \"\"}, \"type\": \"mesh3d\"}], \"parcoords\": [{\"line\": {\"colorbar\": {\"outlinewidth\": 0, \"ticks\": \"\"}}, \"type\": \"parcoords\"}], \"pie\": [{\"automargin\": true, \"type\": \"pie\"}], \"scatter\": [{\"marker\": {\"colorbar\": {\"outlinewidth\": 0, \"ticks\": \"\"}}, \"type\": \"scatter\"}], \"scatter3d\": [{\"line\": {\"colorbar\": {\"outlinewidth\": 0, \"ticks\": \"\"}}, \"marker\": {\"colorbar\": {\"outlinewidth\": 0, \"ticks\": \"\"}}, \"type\": \"scatter3d\"}], \"scattercarpet\": [{\"marker\": {\"colorbar\": {\"outlinewidth\": 0, \"ticks\": \"\"}}, \"type\": \"scattercarpet\"}], \"scattergeo\": [{\"marker\": {\"colorbar\": {\"outlinewidth\": 0, \"ticks\": \"\"}}, \"type\": \"scattergeo\"}], \"scattergl\": [{\"marker\": {\"colorbar\": {\"outlinewidth\": 0, \"ticks\": \"\"}}, \"type\": \"scattergl\"}], \"scattermapbox\": [{\"marker\": {\"colorbar\": {\"outlinewidth\": 0, \"ticks\": \"\"}}, \"type\": \"scattermapbox\"}], \"scatterpolar\": [{\"marker\": {\"colorbar\": {\"outlinewidth\": 0, \"ticks\": \"\"}}, \"type\": \"scatterpolar\"}], \"scatterpolargl\": [{\"marker\": {\"colorbar\": {\"outlinewidth\": 0, \"ticks\": \"\"}}, \"type\": \"scatterpolargl\"}], \"scatterternary\": [{\"marker\": {\"colorbar\": {\"outlinewidth\": 0, \"ticks\": \"\"}}, \"type\": \"scatterternary\"}], \"surface\": [{\"colorbar\": {\"outlinewidth\": 0, \"ticks\": \"\"}, \"colorscale\": [[0.0, \"#0d0887\"], [0.1111111111111111, \"#46039f\"], [0.2222222222222222, \"#7201a8\"], [0.3333333333333333, \"#9c179e\"], [0.4444444444444444, \"#bd3786\"], [0.5555555555555556, \"#d8576b\"], [0.6666666666666666, \"#ed7953\"], [0.7777777777777778, \"#fb9f3a\"], [0.8888888888888888, \"#fdca26\"], [1.0, \"#f0f921\"]], \"type\": \"surface\"}], \"table\": [{\"cells\": {\"fill\": {\"color\": \"#EBF0F8\"}, \"line\": {\"color\": \"white\"}}, \"header\": {\"fill\": {\"color\": \"#C8D4E3\"}, \"line\": {\"color\": \"white\"}}, \"type\": \"table\"}]}, \"layout\": {\"annotationdefaults\": {\"arrowcolor\": \"#2a3f5f\", \"arrowhead\": 0, \"arrowwidth\": 1}, \"coloraxis\": {\"colorbar\": {\"outlinewidth\": 0, \"ticks\": \"\"}}, \"colorscale\": {\"diverging\": [[0, \"#8e0152\"], [0.1, \"#c51b7d\"], [0.2, \"#de77ae\"], [0.3, \"#f1b6da\"], [0.4, \"#fde0ef\"], [0.5, \"#f7f7f7\"], [0.6, \"#e6f5d0\"], [0.7, \"#b8e186\"], [0.8, \"#7fbc41\"], [0.9, \"#4d9221\"], [1, \"#276419\"]], \"sequential\": [[0.0, \"#0d0887\"], [0.1111111111111111, \"#46039f\"], [0.2222222222222222, \"#7201a8\"], [0.3333333333333333, \"#9c179e\"], [0.4444444444444444, \"#bd3786\"], [0.5555555555555556, \"#d8576b\"], [0.6666666666666666, \"#ed7953\"], [0.7777777777777778, \"#fb9f3a\"], [0.8888888888888888, \"#fdca26\"], [1.0, \"#f0f921\"]], \"sequentialminus\": [[0.0, \"#0d0887\"], [0.1111111111111111, \"#46039f\"], [0.2222222222222222, \"#7201a8\"], [0.3333333333333333, \"#9c179e\"], [0.4444444444444444, \"#bd3786\"], [0.5555555555555556, \"#d8576b\"], [0.6666666666666666, \"#ed7953\"], [0.7777777777777778, \"#fb9f3a\"], [0.8888888888888888, \"#fdca26\"], [1.0, \"#f0f921\"]]}, \"colorway\": [\"#636efa\", \"#EF553B\", \"#00cc96\", \"#ab63fa\", \"#FFA15A\", \"#19d3f3\", \"#FF6692\", \"#B6E880\", \"#FF97FF\", \"#FECB52\"], \"font\": {\"color\": \"#2a3f5f\"}, \"geo\": {\"bgcolor\": \"white\", \"lakecolor\": \"white\", \"landcolor\": \"#E5ECF6\", \"showlakes\": true, \"showland\": true, \"subunitcolor\": \"white\"}, \"hoverlabel\": {\"align\": \"left\"}, \"hovermode\": \"closest\", \"mapbox\": {\"style\": \"light\"}, \"paper_bgcolor\": \"white\", \"plot_bgcolor\": \"#E5ECF6\", \"polar\": {\"angularaxis\": {\"gridcolor\": \"white\", \"linecolor\": \"white\", \"ticks\": \"\"}, \"bgcolor\": \"#E5ECF6\", \"radialaxis\": {\"gridcolor\": \"white\", \"linecolor\": \"white\", \"ticks\": \"\"}}, \"scene\": {\"xaxis\": {\"backgroundcolor\": \"#E5ECF6\", \"gridcolor\": \"white\", \"gridwidth\": 2, \"linecolor\": \"white\", \"showbackground\": true, \"ticks\": \"\", \"zerolinecolor\": \"white\"}, \"yaxis\": {\"backgroundcolor\": \"#E5ECF6\", \"gridcolor\": \"white\", \"gridwidth\": 2, \"linecolor\": \"white\", \"showbackground\": true, \"ticks\": \"\", \"zerolinecolor\": \"white\"}, \"zaxis\": {\"backgroundcolor\": \"#E5ECF6\", \"gridcolor\": \"white\", \"gridwidth\": 2, \"linecolor\": \"white\", \"showbackground\": true, \"ticks\": \"\", \"zerolinecolor\": \"white\"}}, \"shapedefaults\": {\"line\": {\"color\": \"#2a3f5f\"}}, \"ternary\": {\"aaxis\": {\"gridcolor\": \"white\", \"linecolor\": \"white\", \"ticks\": \"\"}, \"baxis\": {\"gridcolor\": \"white\", \"linecolor\": \"white\", \"ticks\": \"\"}, \"bgcolor\": \"#E5ECF6\", \"caxis\": {\"gridcolor\": \"white\", \"linecolor\": \"white\", \"ticks\": \"\"}}, \"title\": {\"x\": 0.05}, \"xaxis\": {\"automargin\": true, \"gridcolor\": \"white\", \"linecolor\": \"white\", \"ticks\": \"\", \"title\": {\"standoff\": 15}, \"zerolinecolor\": \"white\", \"zerolinewidth\": 2}, \"yaxis\": {\"automargin\": true, \"gridcolor\": \"white\", \"linecolor\": \"white\", \"ticks\": \"\", \"title\": {\"standoff\": 15}, \"zerolinecolor\": \"white\", \"zerolinewidth\": 2}}}, \"title\": {\"text\": \"MONTERREY\"}, \"xaxis\": {\"anchor\": \"y\", \"domain\": [0.0, 1.0], \"title\": {\"text\": \"periodo\"}}, \"yaxis\": {\"anchor\": \"x\", \"domain\": [0.0, 1.0], \"title\": {\"text\": \"pz\"}}},\n",
              "                        {\"responsive\": true}\n",
              "                    ).then(function(){\n",
              "                            \n",
              "var gd = document.getElementById('e8c593da-e598-4746-a6e1-6cefe086030e');\n",
              "var x = new MutationObserver(function (mutations, observer) {{\n",
              "        var display = window.getComputedStyle(gd).display;\n",
              "        if (!display || display === 'none') {{\n",
              "            console.log([gd, 'removed!']);\n",
              "            Plotly.purge(gd);\n",
              "            observer.disconnect();\n",
              "        }}\n",
              "}});\n",
              "\n",
              "// Listen for the removal of the full notebook cells\n",
              "var notebookContainer = gd.closest('#notebook-container');\n",
              "if (notebookContainer) {{\n",
              "    x.observe(notebookContainer, {childList: true});\n",
              "}}\n",
              "\n",
              "// Listen for the clearing of the current output cell\n",
              "var outputEl = gd.closest('.output');\n",
              "if (outputEl) {{\n",
              "    x.observe(outputEl, {childList: true});\n",
              "}}\n",
              "\n",
              "                        })\n",
              "                };\n",
              "                \n",
              "            </script>\n",
              "        </div>\n",
              "</body>\n",
              "</html>"
            ]
          },
          "metadata": {}
        }
      ]
    },
    {
      "cell_type": "code",
      "source": [
        "import datetime\n",
        "fecha = datetime.datetime.now()\n",
        "fecha"
      ],
      "metadata": {
        "colab": {
          "base_uri": "https://localhost:8080/"
        },
        "id": "2sOzmHyO69we",
        "outputId": "3141c33c-8375-439f-db56-ad2b374c3292"
      },
      "execution_count": null,
      "outputs": [
        {
          "output_type": "execute_result",
          "data": {
            "text/plain": [
              "datetime.datetime(2022, 1, 23, 17, 11, 52, 575746)"
            ]
          },
          "metadata": {},
          "execution_count": 68
        }
      ]
    },
    {
      "cell_type": "markdown",
      "metadata": {
        "id": "wOmdyjFYJLfS"
      },
      "source": [
        "# Función para extrar datos MDA y MTR"
      ]
    },
    {
      "cell_type": "markdown",
      "metadata": {
        "id": "Da3QilEj_ypV"
      },
      "source": [
        "Definimos una función para automatizar la petición de información de PND SIN y poder comparar precios entre MDA y MTR. La idea es iterar sobre la lista ```mercados = ['MDA,'MTR]```, es decir 2 iteraciones, en donde en la primera iteración realiza la petición del MDA y la segunda iteración realiza la petición del MTR. Agregamos una columna para reconocer el mercado asociado en cada petición. Finalmente, en cada iteración, el dataframe obtenido se concatena al dataframe vacío ```plot_df```. "
      ]
    },
    {
      "cell_type": "code",
      "metadata": {
        "id": "XLHGri3IQqY_"
      },
      "source": [
        "def zonaPML(zona,año_i,mes_i,dia_i,año_f,mes_f,dia_f):\n",
        "  #Informacion requerida\n",
        "  base_url = 'https://ws01.cenace.gob.mx:8082/SWPEND/SIM/SIN/'\n",
        "  mercados = ['MDA','MTR']\n",
        "  plot_df = pd.DataFrame()\n",
        "\n",
        "  for mercado in mercados:\n",
        "    #Peticion\n",
        "    peticion = base_url + mercado + '/' + zona + '/' + año_i + '/' + mes_i + '/' + dia_i + '/' + año_f + '/' + mes_f + '/' + dia_f + '/JSON'\n",
        "    response = requests.get(peticion)\n",
        "    x = response.json()\n",
        "    results = x['Resultados'][0]\n",
        "    pml_zone = results['Valores']\n",
        "    mem_df = pd.DataFrame(pml_zone)\n",
        "\n",
        "    #Formato de Datos\n",
        "    mem_df['fecha'] = pd.to_datetime(mem_df['fecha'])\n",
        "    mem_df['pz']    = mem_df['pz'].astype(float)\n",
        "    mem_df['pz_ene']    = mem_df['pz_ene'].astype(float)\n",
        "    mem_df['pz_per']    = mem_df['pz_per'].astype(float)\n",
        "    mem_df['pz_cng']    = mem_df['pz_cng'].astype(float)\n",
        "    mem_df['periodo']   = mem_df['fecha'].astype(str) + ' : H' + mem_df['hora'].astype(str)\n",
        "\n",
        "    #Renombramos columnas \n",
        "    mem_df.rename(columns={'pz':'Precio Zonal (MXN/MWh)'}, inplace=True)\n",
        "\n",
        "    #creamos una nueva columna especificando el mercado \n",
        "    if mercado == 'MDA':\n",
        "      mem_df['mercado'] = 'MDA'\n",
        "    else:\n",
        "      mem_df['mercado'] = 'MTR'\n",
        "\n",
        "    #concatenamos el df obtenido\n",
        "    plot_df = pd.concat([plot_df,mem_df], ignore_index=True)\n",
        "    print(mercado + ': Peticion concretada')\n",
        "\n",
        "  #graficamos  plot_df una vez hayamos terminado el loop\n",
        "  import plotly.express as px\n",
        "  fig = px.line(plot_df, x='periodo', y='Precio Zonal (MXN/MWh)', color = 'mercado', title=zona)\n",
        "  fig.show()"
      ],
      "execution_count": null,
      "outputs": []
    },
    {
      "cell_type": "markdown",
      "metadata": {
        "id": "6iJxdtGMAeCj"
      },
      "source": [
        "Monterrey 2020-02-01 al 2020-02-07"
      ]
    },
    {
      "cell_type": "code",
      "metadata": {
        "colab": {
          "base_uri": "https://localhost:8080/",
          "height": 577
        },
        "id": "PeWerAdeNID7",
        "outputId": "bacb0674-5717-474c-bed5-066ba60a8c70"
      },
      "source": [
        "zonaPML('HERMOSILLO','2018','02','01','2018','02','07')"
      ],
      "execution_count": null,
      "outputs": [
        {
          "output_type": "stream",
          "name": "stdout",
          "text": [
            "MDA: Peticion concretada\n",
            "MTR: Peticion concretada\n"
          ]
        },
        {
          "output_type": "display_data",
          "data": {
            "text/html": [
              "<html>\n",
              "<head><meta charset=\"utf-8\" /></head>\n",
              "<body>\n",
              "    <div>\n",
              "            <script src=\"https://cdnjs.cloudflare.com/ajax/libs/mathjax/2.7.5/MathJax.js?config=TeX-AMS-MML_SVG\"></script><script type=\"text/javascript\">if (window.MathJax) {MathJax.Hub.Config({SVG: {font: \"STIX-Web\"}});}</script>\n",
              "                <script type=\"text/javascript\">window.PlotlyConfig = {MathJaxConfig: 'local'};</script>\n",
              "        <script src=\"https://cdn.plot.ly/plotly-latest.min.js\"></script>    \n",
              "            <div id=\"93fd01fd-0360-4411-b809-28dc118e7e05\" class=\"plotly-graph-div\" style=\"height:525px; width:100%;\"></div>\n",
              "            <script type=\"text/javascript\">\n",
              "                \n",
              "                    window.PLOTLYENV=window.PLOTLYENV || {};\n",
              "                    \n",
              "                if (document.getElementById(\"93fd01fd-0360-4411-b809-28dc118e7e05\")) {\n",
              "                    Plotly.newPlot(\n",
              "                        '93fd01fd-0360-4411-b809-28dc118e7e05',\n",
              "                        [{\"hoverlabel\": {\"namelength\": 0}, \"hovertemplate\": \"mercado=MDA<br>periodo=%{x}<br>Precio Zonal (MXN/MWh)=%{y}\", \"legendgroup\": \"mercado=MDA\", \"line\": {\"color\": \"#636efa\", \"dash\": \"solid\"}, \"mode\": \"lines\", \"name\": \"mercado=MDA\", \"showlegend\": true, \"type\": \"scatter\", \"x\": [\"2018-02-01 : H1\", \"2018-02-01 : H2\", \"2018-02-01 : H3\", \"2018-02-01 : H4\", \"2018-02-01 : H5\", \"2018-02-01 : H6\", \"2018-02-01 : H7\", \"2018-02-01 : H8\", \"2018-02-01 : H9\", \"2018-02-01 : H10\", \"2018-02-01 : H11\", \"2018-02-01 : H12\", \"2018-02-01 : H13\", \"2018-02-01 : H14\", \"2018-02-01 : H15\", \"2018-02-01 : H16\", \"2018-02-01 : H17\", \"2018-02-01 : H18\", \"2018-02-01 : H19\", \"2018-02-01 : H20\", \"2018-02-01 : H21\", \"2018-02-01 : H22\", \"2018-02-01 : H23\", \"2018-02-01 : H24\", \"2018-02-02 : H1\", \"2018-02-02 : H2\", \"2018-02-02 : H3\", \"2018-02-02 : H4\", \"2018-02-02 : H5\", \"2018-02-02 : H6\", \"2018-02-02 : H7\", \"2018-02-02 : H8\", \"2018-02-02 : H9\", \"2018-02-02 : H10\", \"2018-02-02 : H11\", \"2018-02-02 : H12\", \"2018-02-02 : H13\", \"2018-02-02 : H14\", \"2018-02-02 : H15\", \"2018-02-02 : H16\", \"2018-02-02 : H17\", \"2018-02-02 : H18\", \"2018-02-02 : H19\", \"2018-02-02 : H20\", \"2018-02-02 : H21\", \"2018-02-02 : H22\", \"2018-02-02 : H23\", \"2018-02-02 : H24\", \"2018-02-03 : H1\", \"2018-02-03 : H2\", \"2018-02-03 : H3\", \"2018-02-03 : H4\", \"2018-02-03 : H5\", \"2018-02-03 : H6\", \"2018-02-03 : H7\", \"2018-02-03 : H8\", \"2018-02-03 : H9\", \"2018-02-03 : H10\", \"2018-02-03 : H11\", \"2018-02-03 : H12\", \"2018-02-03 : H13\", \"2018-02-03 : H14\", \"2018-02-03 : H15\", \"2018-02-03 : H16\", \"2018-02-03 : H17\", \"2018-02-03 : H18\", \"2018-02-03 : H19\", \"2018-02-03 : H20\", \"2018-02-03 : H21\", \"2018-02-03 : H22\", \"2018-02-03 : H23\", \"2018-02-03 : H24\", \"2018-02-04 : H1\", \"2018-02-04 : H2\", \"2018-02-04 : H3\", \"2018-02-04 : H4\", \"2018-02-04 : H5\", \"2018-02-04 : H6\", \"2018-02-04 : H7\", \"2018-02-04 : H8\", \"2018-02-04 : H9\", \"2018-02-04 : H10\", \"2018-02-04 : H11\", \"2018-02-04 : H12\", \"2018-02-04 : H13\", \"2018-02-04 : H14\", \"2018-02-04 : H15\", \"2018-02-04 : H16\", \"2018-02-04 : H17\", \"2018-02-04 : H18\", \"2018-02-04 : H19\", \"2018-02-04 : H20\", \"2018-02-04 : H21\", \"2018-02-04 : H22\", \"2018-02-04 : H23\", \"2018-02-04 : H24\", \"2018-02-05 : H1\", \"2018-02-05 : H2\", \"2018-02-05 : H3\", \"2018-02-05 : H4\", \"2018-02-05 : H5\", \"2018-02-05 : H6\", \"2018-02-05 : H7\", \"2018-02-05 : H8\", \"2018-02-05 : H9\", \"2018-02-05 : H10\", \"2018-02-05 : H11\", \"2018-02-05 : H12\", \"2018-02-05 : H13\", \"2018-02-05 : H14\", \"2018-02-05 : H15\", \"2018-02-05 : H16\", \"2018-02-05 : H17\", \"2018-02-05 : H18\", \"2018-02-05 : H19\", \"2018-02-05 : H20\", \"2018-02-05 : H21\", \"2018-02-05 : H22\", \"2018-02-05 : H23\", \"2018-02-05 : H24\", \"2018-02-06 : H1\", \"2018-02-06 : H2\", \"2018-02-06 : H3\", \"2018-02-06 : H4\", \"2018-02-06 : H5\", \"2018-02-06 : H6\", \"2018-02-06 : H7\", \"2018-02-06 : H8\", \"2018-02-06 : H9\", \"2018-02-06 : H10\", \"2018-02-06 : H11\", \"2018-02-06 : H12\", \"2018-02-06 : H13\", \"2018-02-06 : H14\", \"2018-02-06 : H15\", \"2018-02-06 : H16\", \"2018-02-06 : H17\", \"2018-02-06 : H18\", \"2018-02-06 : H19\", \"2018-02-06 : H20\", \"2018-02-06 : H21\", \"2018-02-06 : H22\", \"2018-02-06 : H23\", \"2018-02-06 : H24\", \"2018-02-07 : H1\", \"2018-02-07 : H2\", \"2018-02-07 : H3\", \"2018-02-07 : H4\", \"2018-02-07 : H5\", \"2018-02-07 : H6\", \"2018-02-07 : H7\", \"2018-02-07 : H8\", \"2018-02-07 : H9\", \"2018-02-07 : H10\", \"2018-02-07 : H11\", \"2018-02-07 : H12\", \"2018-02-07 : H13\", \"2018-02-07 : H14\", \"2018-02-07 : H15\", \"2018-02-07 : H16\", \"2018-02-07 : H17\", \"2018-02-07 : H18\", \"2018-02-07 : H19\", \"2018-02-07 : H20\", \"2018-02-07 : H21\", \"2018-02-07 : H22\", \"2018-02-07 : H23\", \"2018-02-07 : H24\"], \"xaxis\": \"x\", \"y\": [540.58, 538.22, 514.55, 509.23, 497.67, 514.63, 533.03, 545.92, 564.77, 568.18, 591.3, 626.28, 681.25, 684.13, 701.71, 707.09, 679.25, 718.59, 619.81, 670.61, 606.6, 584.23, 604.49, 574.47, 514.23, 498.05, 509.48, 492.31, 486.57, 512.02, 514.12, 529.58, 542.99, 539.45, 575.6, 549.04, 563.47, 566.18, 585.47, 558.32, 550.1, 572.91, 565.47, 539.65, 542.31, 553.45, 524.15, 515.24, 504.26, 480.66, 459.28, 453.17, 459.76, 462.59, 465.23, 484.76, 464.04, 515.32, 529.01, 501.93, 488.56, 482.58, 470.28, 490.62, 476.69, 462.6, 466.28, 495.46, 475.07, 472.76, 469.75, 435.36, 434.78, 411.34, 414.32, 396.09, 386.73, 394.55, 410.64, 410.84, 399.81, 401.48, 392.82, 402.59, 399.27, 391.14, 388.09, 383.97, 321.17, 325.17, 372.5, 370.75, 372.49, 367.38, 378.37, 355.5, 347.12, 344.58, 338.12, 334.05, 334.08, 334.99, 353.3, 363.8, 363.1, 437.99, 479.94, 496.7, 499.5, 500.2, 498.11, 479.95, 479.47, 482.83, 499.0, 540.12, 633.0, 527.64, 577.36, 474.13, 444.77, 427.95, 408.69, 381.14, 399.96, 408.16, 438.37, 495.88, 615.36, 718.67, 667.67, 651.0, 1677.4, 659.66, 1614.9, 673.71, 720.79, 671.26, 637.43, 626.17, 690.24, 687.02, 627.68, 616.39, 959.05, 752.46, 567.05, 551.42, 532.46, 570.16, 645.39, 635.02, 667.81, 709.85, 680.77, 865.95, 781.12, 839.29, 822.48, 752.05, 734.82, 894.97, 785.26, 820.72, 780.7, 739.78, 716.24, 681.44], \"yaxis\": \"y\"}, {\"hoverlabel\": {\"namelength\": 0}, \"hovertemplate\": \"mercado=MTR<br>periodo=%{x}<br>Precio Zonal (MXN/MWh)=%{y}\", \"legendgroup\": \"mercado=MTR\", \"line\": {\"color\": \"#EF553B\", \"dash\": \"solid\"}, \"mode\": \"lines\", \"name\": \"mercado=MTR\", \"showlegend\": true, \"type\": \"scatter\", \"x\": [\"2018-02-01 : H1\", \"2018-02-01 : H2\", \"2018-02-01 : H3\", \"2018-02-01 : H4\", \"2018-02-01 : H5\", \"2018-02-01 : H6\", \"2018-02-01 : H7\", \"2018-02-01 : H8\", \"2018-02-01 : H9\", \"2018-02-01 : H10\", \"2018-02-01 : H11\", \"2018-02-01 : H12\", \"2018-02-01 : H13\", \"2018-02-01 : H14\", \"2018-02-01 : H15\", \"2018-02-01 : H16\", \"2018-02-01 : H17\", \"2018-02-01 : H18\", \"2018-02-01 : H19\", \"2018-02-01 : H20\", \"2018-02-01 : H21\", \"2018-02-01 : H22\", \"2018-02-01 : H23\", \"2018-02-01 : H24\", \"2018-02-02 : H1\", \"2018-02-02 : H2\", \"2018-02-02 : H3\", \"2018-02-02 : H4\", \"2018-02-02 : H5\", \"2018-02-02 : H6\", \"2018-02-02 : H7\", \"2018-02-02 : H8\", \"2018-02-02 : H9\", \"2018-02-02 : H10\", \"2018-02-02 : H11\", \"2018-02-02 : H12\", \"2018-02-02 : H13\", \"2018-02-02 : H14\", \"2018-02-02 : H15\", \"2018-02-02 : H16\", \"2018-02-02 : H17\", \"2018-02-02 : H18\", \"2018-02-02 : H19\", \"2018-02-02 : H20\", \"2018-02-02 : H21\", \"2018-02-02 : H22\", \"2018-02-02 : H23\", \"2018-02-02 : H24\", \"2018-02-03 : H1\", \"2018-02-03 : H2\", \"2018-02-03 : H3\", \"2018-02-03 : H4\", \"2018-02-03 : H5\", \"2018-02-03 : H6\", \"2018-02-03 : H7\", \"2018-02-03 : H8\", \"2018-02-03 : H9\", \"2018-02-03 : H10\", \"2018-02-03 : H11\", \"2018-02-03 : H12\", \"2018-02-03 : H13\", \"2018-02-03 : H14\", \"2018-02-03 : H15\", \"2018-02-03 : H16\", \"2018-02-03 : H17\", \"2018-02-03 : H18\", \"2018-02-03 : H19\", \"2018-02-03 : H20\", \"2018-02-03 : H21\", \"2018-02-03 : H22\", \"2018-02-03 : H23\", \"2018-02-03 : H24\", \"2018-02-04 : H1\", \"2018-02-04 : H2\", \"2018-02-04 : H3\", \"2018-02-04 : H4\", \"2018-02-04 : H5\", \"2018-02-04 : H6\", \"2018-02-04 : H7\", \"2018-02-04 : H8\", \"2018-02-04 : H9\", \"2018-02-04 : H10\", \"2018-02-04 : H11\", \"2018-02-04 : H12\", \"2018-02-04 : H13\", \"2018-02-04 : H14\", \"2018-02-04 : H15\", \"2018-02-04 : H16\", \"2018-02-04 : H17\", \"2018-02-04 : H18\", \"2018-02-04 : H19\", \"2018-02-04 : H20\", \"2018-02-04 : H21\", \"2018-02-04 : H22\", \"2018-02-04 : H23\", \"2018-02-04 : H24\", \"2018-02-05 : H1\", \"2018-02-05 : H2\", \"2018-02-05 : H3\", \"2018-02-05 : H4\", \"2018-02-05 : H5\", \"2018-02-05 : H6\", \"2018-02-05 : H7\", \"2018-02-05 : H8\", \"2018-02-05 : H9\", \"2018-02-05 : H10\", \"2018-02-05 : H11\", \"2018-02-05 : H12\", \"2018-02-05 : H13\", \"2018-02-05 : H14\", \"2018-02-05 : H15\", \"2018-02-05 : H16\", \"2018-02-05 : H17\", \"2018-02-05 : H18\", \"2018-02-05 : H19\", \"2018-02-05 : H20\", \"2018-02-05 : H21\", \"2018-02-05 : H22\", \"2018-02-05 : H23\", \"2018-02-05 : H24\", \"2018-02-06 : H1\", \"2018-02-06 : H2\", \"2018-02-06 : H3\", \"2018-02-06 : H4\", \"2018-02-06 : H5\", \"2018-02-06 : H6\", \"2018-02-06 : H7\", \"2018-02-06 : H8\", \"2018-02-06 : H9\", \"2018-02-06 : H10\", \"2018-02-06 : H11\", \"2018-02-06 : H12\", \"2018-02-06 : H13\", \"2018-02-06 : H14\", \"2018-02-06 : H15\", \"2018-02-06 : H16\", \"2018-02-06 : H17\", \"2018-02-06 : H18\", \"2018-02-06 : H19\", \"2018-02-06 : H20\", \"2018-02-06 : H21\", \"2018-02-06 : H22\", \"2018-02-06 : H23\", \"2018-02-06 : H24\", \"2018-02-07 : H1\", \"2018-02-07 : H2\", \"2018-02-07 : H3\", \"2018-02-07 : H4\", \"2018-02-07 : H5\", \"2018-02-07 : H6\", \"2018-02-07 : H7\", \"2018-02-07 : H8\", \"2018-02-07 : H9\", \"2018-02-07 : H10\", \"2018-02-07 : H11\", \"2018-02-07 : H12\", \"2018-02-07 : H13\", \"2018-02-07 : H14\", \"2018-02-07 : H15\", \"2018-02-07 : H16\", \"2018-02-07 : H17\", \"2018-02-07 : H18\", \"2018-02-07 : H19\", \"2018-02-07 : H20\", \"2018-02-07 : H21\", \"2018-02-07 : H22\", \"2018-02-07 : H23\", \"2018-02-07 : H24\"], \"xaxis\": \"x\", \"y\": [626.94, 587.62, 588.47, 566.25, 566.22, 597.61, 585.01, 689.05, 698.39, 683.9, 719.11, 746.31, 763.8, 790.17, 846.08, 731.65, 705.46, 693.04, 639.54, 663.66, 670.6, 661.75, 862.59, 713.14, 684.24, 589.56, 596.67, 578.75, 573.2, 559.08, 589.48, 661.73, 743.6, 651.32, 688.06, 655.97, 667.75, 645.47, 672.04, 701.1, 628.06, 790.95, 725.4, 697.69, 702.56, 718.89, 603.98, 595.51, 575.42, 541.18, 543.64, 532.64, 557.56, 571.32, 570.23, 625.22, 695.98, 672.73, 665.56, 658.99, 693.72, 684.71, 687.1, 673.53, 656.39, 663.07, 594.77, 677.76, 633.66, 626.76, 566.99, 536.21, 491.42, 485.75, 482.53, 475.54, 467.84, 464.48, 472.74, 474.94, 476.99, 527.94, 540.9, 546.32, 528.37, 541.73, 538.71, 538.54, 539.08, 545.0, 532.73, 583.19, 564.17, 596.46, 566.23, 571.24, 573.69, 512.65, 506.76, 495.52, 477.88, 481.47, 486.88, 497.19, 506.18, 555.61, 676.62, 658.27, 579.47, 646.94, 671.33, 683.61, 678.16, 673.86, 682.94, 761.75, 711.61, 722.47, 729.09, 586.4, 517.07, 466.6, 451.92, 444.99, 444.64, 483.36, 507.14, 547.75, 692.11, 1405.66, 1412.81, 1427.08, 1440.29, 1460.62, 1511.93, 1517.85, 1474.25, 1465.68, 1483.14, 1547.41, 1479.59, 1435.23, 1352.12, 600.2, 682.4, 834.58, 599.42, 607.22, 613.71, 624.33, 1417.93, 939.76, 1481.35, 1518.07, 1640.5, 1628.32, 717.33, 719.1, 713.92, 768.74, 716.06, 711.85, 708.82, 712.67, 711.68, 708.25, 709.84, 788.45], \"yaxis\": \"y\"}],\n",
              "                        {\"legend\": {\"tracegroupgap\": 0}, \"template\": {\"data\": {\"bar\": [{\"error_x\": {\"color\": \"#2a3f5f\"}, \"error_y\": {\"color\": \"#2a3f5f\"}, \"marker\": {\"line\": {\"color\": \"#E5ECF6\", \"width\": 0.5}}, \"type\": \"bar\"}], \"barpolar\": [{\"marker\": {\"line\": {\"color\": \"#E5ECF6\", \"width\": 0.5}}, \"type\": \"barpolar\"}], \"carpet\": [{\"aaxis\": {\"endlinecolor\": \"#2a3f5f\", \"gridcolor\": \"white\", \"linecolor\": \"white\", \"minorgridcolor\": \"white\", \"startlinecolor\": \"#2a3f5f\"}, \"baxis\": {\"endlinecolor\": \"#2a3f5f\", \"gridcolor\": \"white\", \"linecolor\": \"white\", \"minorgridcolor\": \"white\", \"startlinecolor\": \"#2a3f5f\"}, \"type\": \"carpet\"}], \"choropleth\": [{\"colorbar\": {\"outlinewidth\": 0, \"ticks\": \"\"}, \"type\": \"choropleth\"}], \"contour\": [{\"colorbar\": {\"outlinewidth\": 0, \"ticks\": \"\"}, \"colorscale\": [[0.0, \"#0d0887\"], [0.1111111111111111, \"#46039f\"], [0.2222222222222222, \"#7201a8\"], [0.3333333333333333, \"#9c179e\"], [0.4444444444444444, \"#bd3786\"], [0.5555555555555556, \"#d8576b\"], [0.6666666666666666, \"#ed7953\"], [0.7777777777777778, \"#fb9f3a\"], [0.8888888888888888, \"#fdca26\"], [1.0, \"#f0f921\"]], \"type\": \"contour\"}], \"contourcarpet\": [{\"colorbar\": {\"outlinewidth\": 0, \"ticks\": \"\"}, \"type\": \"contourcarpet\"}], \"heatmap\": [{\"colorbar\": {\"outlinewidth\": 0, \"ticks\": \"\"}, \"colorscale\": [[0.0, \"#0d0887\"], [0.1111111111111111, \"#46039f\"], [0.2222222222222222, \"#7201a8\"], [0.3333333333333333, \"#9c179e\"], [0.4444444444444444, \"#bd3786\"], [0.5555555555555556, \"#d8576b\"], [0.6666666666666666, \"#ed7953\"], [0.7777777777777778, \"#fb9f3a\"], [0.8888888888888888, \"#fdca26\"], [1.0, \"#f0f921\"]], \"type\": \"heatmap\"}], \"heatmapgl\": [{\"colorbar\": {\"outlinewidth\": 0, \"ticks\": \"\"}, \"colorscale\": [[0.0, \"#0d0887\"], [0.1111111111111111, \"#46039f\"], [0.2222222222222222, \"#7201a8\"], [0.3333333333333333, \"#9c179e\"], [0.4444444444444444, \"#bd3786\"], [0.5555555555555556, \"#d8576b\"], [0.6666666666666666, \"#ed7953\"], [0.7777777777777778, \"#fb9f3a\"], [0.8888888888888888, \"#fdca26\"], [1.0, \"#f0f921\"]], \"type\": \"heatmapgl\"}], \"histogram\": [{\"marker\": {\"colorbar\": {\"outlinewidth\": 0, \"ticks\": \"\"}}, \"type\": \"histogram\"}], \"histogram2d\": [{\"colorbar\": {\"outlinewidth\": 0, \"ticks\": \"\"}, \"colorscale\": [[0.0, \"#0d0887\"], [0.1111111111111111, \"#46039f\"], [0.2222222222222222, \"#7201a8\"], [0.3333333333333333, \"#9c179e\"], [0.4444444444444444, \"#bd3786\"], [0.5555555555555556, \"#d8576b\"], [0.6666666666666666, \"#ed7953\"], [0.7777777777777778, \"#fb9f3a\"], [0.8888888888888888, \"#fdca26\"], [1.0, \"#f0f921\"]], \"type\": \"histogram2d\"}], \"histogram2dcontour\": [{\"colorbar\": {\"outlinewidth\": 0, \"ticks\": \"\"}, \"colorscale\": [[0.0, \"#0d0887\"], [0.1111111111111111, \"#46039f\"], [0.2222222222222222, \"#7201a8\"], [0.3333333333333333, \"#9c179e\"], [0.4444444444444444, \"#bd3786\"], [0.5555555555555556, \"#d8576b\"], [0.6666666666666666, \"#ed7953\"], [0.7777777777777778, \"#fb9f3a\"], [0.8888888888888888, \"#fdca26\"], [1.0, \"#f0f921\"]], \"type\": \"histogram2dcontour\"}], \"mesh3d\": [{\"colorbar\": {\"outlinewidth\": 0, \"ticks\": \"\"}, \"type\": \"mesh3d\"}], \"parcoords\": [{\"line\": {\"colorbar\": {\"outlinewidth\": 0, \"ticks\": \"\"}}, \"type\": \"parcoords\"}], \"pie\": [{\"automargin\": true, \"type\": \"pie\"}], \"scatter\": [{\"marker\": {\"colorbar\": {\"outlinewidth\": 0, \"ticks\": \"\"}}, \"type\": \"scatter\"}], \"scatter3d\": [{\"line\": {\"colorbar\": {\"outlinewidth\": 0, \"ticks\": \"\"}}, \"marker\": {\"colorbar\": {\"outlinewidth\": 0, \"ticks\": \"\"}}, \"type\": \"scatter3d\"}], \"scattercarpet\": [{\"marker\": {\"colorbar\": {\"outlinewidth\": 0, \"ticks\": \"\"}}, \"type\": \"scattercarpet\"}], \"scattergeo\": [{\"marker\": {\"colorbar\": {\"outlinewidth\": 0, \"ticks\": \"\"}}, \"type\": \"scattergeo\"}], \"scattergl\": [{\"marker\": {\"colorbar\": {\"outlinewidth\": 0, \"ticks\": \"\"}}, \"type\": \"scattergl\"}], \"scattermapbox\": [{\"marker\": {\"colorbar\": {\"outlinewidth\": 0, \"ticks\": \"\"}}, \"type\": \"scattermapbox\"}], \"scatterpolar\": [{\"marker\": {\"colorbar\": {\"outlinewidth\": 0, \"ticks\": \"\"}}, \"type\": \"scatterpolar\"}], \"scatterpolargl\": [{\"marker\": {\"colorbar\": {\"outlinewidth\": 0, \"ticks\": \"\"}}, \"type\": \"scatterpolargl\"}], \"scatterternary\": [{\"marker\": {\"colorbar\": {\"outlinewidth\": 0, \"ticks\": \"\"}}, \"type\": \"scatterternary\"}], \"surface\": [{\"colorbar\": {\"outlinewidth\": 0, \"ticks\": \"\"}, \"colorscale\": [[0.0, \"#0d0887\"], [0.1111111111111111, \"#46039f\"], [0.2222222222222222, \"#7201a8\"], [0.3333333333333333, \"#9c179e\"], [0.4444444444444444, \"#bd3786\"], [0.5555555555555556, \"#d8576b\"], [0.6666666666666666, \"#ed7953\"], [0.7777777777777778, \"#fb9f3a\"], [0.8888888888888888, \"#fdca26\"], [1.0, \"#f0f921\"]], \"type\": \"surface\"}], \"table\": [{\"cells\": {\"fill\": {\"color\": \"#EBF0F8\"}, \"line\": {\"color\": \"white\"}}, \"header\": {\"fill\": {\"color\": \"#C8D4E3\"}, \"line\": {\"color\": \"white\"}}, \"type\": \"table\"}]}, \"layout\": {\"annotationdefaults\": {\"arrowcolor\": \"#2a3f5f\", \"arrowhead\": 0, \"arrowwidth\": 1}, \"coloraxis\": {\"colorbar\": {\"outlinewidth\": 0, \"ticks\": \"\"}}, \"colorscale\": {\"diverging\": [[0, \"#8e0152\"], [0.1, \"#c51b7d\"], [0.2, \"#de77ae\"], [0.3, \"#f1b6da\"], [0.4, \"#fde0ef\"], [0.5, \"#f7f7f7\"], [0.6, \"#e6f5d0\"], [0.7, \"#b8e186\"], [0.8, \"#7fbc41\"], [0.9, \"#4d9221\"], [1, \"#276419\"]], \"sequential\": [[0.0, \"#0d0887\"], [0.1111111111111111, \"#46039f\"], [0.2222222222222222, \"#7201a8\"], [0.3333333333333333, \"#9c179e\"], [0.4444444444444444, \"#bd3786\"], [0.5555555555555556, \"#d8576b\"], [0.6666666666666666, \"#ed7953\"], [0.7777777777777778, \"#fb9f3a\"], [0.8888888888888888, \"#fdca26\"], [1.0, \"#f0f921\"]], \"sequentialminus\": [[0.0, \"#0d0887\"], [0.1111111111111111, \"#46039f\"], [0.2222222222222222, \"#7201a8\"], [0.3333333333333333, \"#9c179e\"], [0.4444444444444444, \"#bd3786\"], [0.5555555555555556, \"#d8576b\"], [0.6666666666666666, \"#ed7953\"], [0.7777777777777778, \"#fb9f3a\"], [0.8888888888888888, \"#fdca26\"], [1.0, \"#f0f921\"]]}, \"colorway\": [\"#636efa\", \"#EF553B\", \"#00cc96\", \"#ab63fa\", \"#FFA15A\", \"#19d3f3\", \"#FF6692\", \"#B6E880\", \"#FF97FF\", \"#FECB52\"], \"font\": {\"color\": \"#2a3f5f\"}, \"geo\": {\"bgcolor\": \"white\", \"lakecolor\": \"white\", \"landcolor\": \"#E5ECF6\", \"showlakes\": true, \"showland\": true, \"subunitcolor\": \"white\"}, \"hoverlabel\": {\"align\": \"left\"}, \"hovermode\": \"closest\", \"mapbox\": {\"style\": \"light\"}, \"paper_bgcolor\": \"white\", \"plot_bgcolor\": \"#E5ECF6\", \"polar\": {\"angularaxis\": {\"gridcolor\": \"white\", \"linecolor\": \"white\", \"ticks\": \"\"}, \"bgcolor\": \"#E5ECF6\", \"radialaxis\": {\"gridcolor\": \"white\", \"linecolor\": \"white\", \"ticks\": \"\"}}, \"scene\": {\"xaxis\": {\"backgroundcolor\": \"#E5ECF6\", \"gridcolor\": \"white\", \"gridwidth\": 2, \"linecolor\": \"white\", \"showbackground\": true, \"ticks\": \"\", \"zerolinecolor\": \"white\"}, \"yaxis\": {\"backgroundcolor\": \"#E5ECF6\", \"gridcolor\": \"white\", \"gridwidth\": 2, \"linecolor\": \"white\", \"showbackground\": true, \"ticks\": \"\", \"zerolinecolor\": \"white\"}, \"zaxis\": {\"backgroundcolor\": \"#E5ECF6\", \"gridcolor\": \"white\", \"gridwidth\": 2, \"linecolor\": \"white\", \"showbackground\": true, \"ticks\": \"\", \"zerolinecolor\": \"white\"}}, \"shapedefaults\": {\"line\": {\"color\": \"#2a3f5f\"}}, \"ternary\": {\"aaxis\": {\"gridcolor\": \"white\", \"linecolor\": \"white\", \"ticks\": \"\"}, \"baxis\": {\"gridcolor\": \"white\", \"linecolor\": \"white\", \"ticks\": \"\"}, \"bgcolor\": \"#E5ECF6\", \"caxis\": {\"gridcolor\": \"white\", \"linecolor\": \"white\", \"ticks\": \"\"}}, \"title\": {\"x\": 0.05}, \"xaxis\": {\"automargin\": true, \"gridcolor\": \"white\", \"linecolor\": \"white\", \"ticks\": \"\", \"title\": {\"standoff\": 15}, \"zerolinecolor\": \"white\", \"zerolinewidth\": 2}, \"yaxis\": {\"automargin\": true, \"gridcolor\": \"white\", \"linecolor\": \"white\", \"ticks\": \"\", \"title\": {\"standoff\": 15}, \"zerolinecolor\": \"white\", \"zerolinewidth\": 2}}}, \"title\": {\"text\": \"HERMOSILLO\"}, \"xaxis\": {\"anchor\": \"y\", \"domain\": [0.0, 1.0], \"title\": {\"text\": \"periodo\"}}, \"yaxis\": {\"anchor\": \"x\", \"domain\": [0.0, 1.0], \"title\": {\"text\": \"Precio Zonal (MXN/MWh)\"}}},\n",
              "                        {\"responsive\": true}\n",
              "                    ).then(function(){\n",
              "                            \n",
              "var gd = document.getElementById('93fd01fd-0360-4411-b809-28dc118e7e05');\n",
              "var x = new MutationObserver(function (mutations, observer) {{\n",
              "        var display = window.getComputedStyle(gd).display;\n",
              "        if (!display || display === 'none') {{\n",
              "            console.log([gd, 'removed!']);\n",
              "            Plotly.purge(gd);\n",
              "            observer.disconnect();\n",
              "        }}\n",
              "}});\n",
              "\n",
              "// Listen for the removal of the full notebook cells\n",
              "var notebookContainer = gd.closest('#notebook-container');\n",
              "if (notebookContainer) {{\n",
              "    x.observe(notebookContainer, {childList: true});\n",
              "}}\n",
              "\n",
              "// Listen for the clearing of the current output cell\n",
              "var outputEl = gd.closest('.output');\n",
              "if (outputEl) {{\n",
              "    x.observe(outputEl, {childList: true});\n",
              "}}\n",
              "\n",
              "                        })\n",
              "                };\n",
              "                \n",
              "            </script>\n",
              "        </div>\n",
              "</body>\n",
              "</html>"
            ]
          },
          "metadata": {}
        }
      ]
    }
  ]
}