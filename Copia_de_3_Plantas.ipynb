{
  "nbformat": 4,
  "nbformat_minor": 0,
  "metadata": {
    "colab": {
      "name": "Copia de 3_Plantas.ipynb",
      "provenance": [],
      "collapsed_sections": [],
      "include_colab_link": true
    },
    "kernelspec": {
      "name": "python3",
      "display_name": "Python 3"
    },
    "language_info": {
      "name": "python"
    }
  },
  "cells": [
    {
      "cell_type": "markdown",
      "metadata": {
        "id": "view-in-github",
        "colab_type": "text"
      },
      "source": [
        "<a href=\"https://colab.research.google.com/github/lups0208/datasciencecoursera/blob/master/Copia_de_3_Plantas.ipynb\" target=\"_parent\"><img src=\"https://colab.research.google.com/assets/colab-badge.svg\" alt=\"Open In Colab\"/></a>"
      ]
    },
    {
      "cell_type": "code",
      "metadata": {
        "id": "bfTClCASpO_f"
      },
      "source": [
        "import pandas as pd"
      ],
      "execution_count": null,
      "outputs": []
    },
    {
      "cell_type": "markdown",
      "metadata": {
        "id": "-wZ_3q0kpvN1"
      },
      "source": [
        "Se provee de una base de datos de plantas (actualizada hasta 2018). Cada fila es una planta. Los datos son a nivel SEN. Incluye BC y BCS"
      ]
    },
    {
      "cell_type": "code",
      "metadata": {
        "id": "scg63MqGp-u8"
      },
      "source": [
        "plantas = pd.read_excel('https://github.com/IvanMGro/CENACE/raw/main/BDGPIIRCE.xlsx')"
      ],
      "execution_count": null,
      "outputs": []
    },
    {
      "cell_type": "code",
      "source": [
        "plantas"
      ],
      "metadata": {
        "id": "HYzLqODYr5HN"
      },
      "execution_count": null,
      "outputs": []
    },
    {
      "cell_type": "markdown",
      "metadata": {
        "id": "mo3UTyaosSsS"
      },
      "source": [
        "Quiero conocer los combustibles utilizados en México"
      ]
    },
    {
      "cell_type": "code",
      "metadata": {
        "id": "VHA6IU6ZsBYz",
        "outputId": "f4eb764b-201f-41a2-b58d-0cd4ff426976",
        "colab": {
          "base_uri": "https://localhost:8080/"
        }
      },
      "source": [
        "plantas[\"Combustible\"].unique()"
      ],
      "execution_count": null,
      "outputs": [
        {
          "output_type": "execute_result",
          "data": {
            "text/plain": [
              "array(['Gas Natural', nan, 'Diésel', 'Combustóleo ', 'Carbón', 'Uranio',\n",
              "       'Biogás', 'Gas residual', 'Vapor', 'Bagazo de caña', 'Gas L.P.',\n",
              "       'Coque'], dtype=object)"
            ]
          },
          "metadata": {},
          "execution_count": 5
        }
      ]
    },
    {
      "cell_type": "markdown",
      "metadata": {
        "id": "FHUQFChTsX-2"
      },
      "source": [
        "Quiero conocer las tecnologías existentes en México\n"
      ]
    },
    {
      "cell_type": "code",
      "metadata": {
        "id": "0lIvzoJWsbsb",
        "outputId": "87c98b94-b548-4191-d14a-e8c8477e2728",
        "colab": {
          "base_uri": "https://localhost:8080/"
        }
      },
      "source": [
        "plantas[\"Tecnología\"].unique()"
      ],
      "execution_count": null,
      "outputs": [
        {
          "output_type": "execute_result",
          "data": {
            "text/plain": [
              "array(['Ciclo Combinado', 'Geotérmica', 'Solar fotovoltaica', 'Turbogás',\n",
              "       'Ciclo combinado', 'Termoeléctrica convencional',\n",
              "       'Combustión Interna', 'Hidroeléctrica', 'Carboeléctrica', 'Eólica',\n",
              "       'Nucleoeléctrica', 'Bioenergía', 'Termoeléctrica Convencional',\n",
              "       'Cogeneración Eficiente', 'Combustión interna', 'Lecho Fluidizado'],\n",
              "      dtype=object)"
            ]
          },
          "metadata": {},
          "execution_count": 6
        }
      ]
    },
    {
      "cell_type": "markdown",
      "metadata": {
        "id": "7J7s0Du9tXx8"
      },
      "source": [
        "Para reemplazar una mala etiqueta podemos hacer uso del siguiente método. El primer argumento es la etiqueta mala y el segundo argumento es la etiqueta por la que quiero cambiar"
      ]
    },
    {
      "cell_type": "code",
      "metadata": {
        "id": "YYToWn0Lt24E"
      },
      "source": [
        "plantas.replace(\"Ciclo Combinado\",\"Ciclo combinado\",inplace=True)\n",
        "plantas.replace(\"Termoeléctrica Convencional\",\"Termoeléctrica convencional\",inplace=True)\n",
        "plantas.replace(\"Combustión Interna\",\"Combustión interna\",inplace=True)"
      ],
      "execution_count": null,
      "outputs": []
    },
    {
      "cell_type": "markdown",
      "metadata": {
        "id": "YX2B1OsMuxAE"
      },
      "source": [
        "Quiero conocer la cantidad de MW Instalados por Tecnología en cada gerencia de control regional"
      ]
    },
    {
      "cell_type": "code",
      "metadata": {
        "id": "1uP64YMcu0t_",
        "outputId": "b2e0bbb1-b0ee-45c3-c6ca-68c810fa1333",
        "colab": {
          "base_uri": "https://localhost:8080/"
        }
      },
      "source": [
        "plantas[\"Tecnología\"].unique()"
      ],
      "execution_count": null,
      "outputs": [
        {
          "output_type": "execute_result",
          "data": {
            "text/plain": [
              "array(['Ciclo combinado', 'Geotérmica', 'Solar fotovoltaica', 'Turbogás',\n",
              "       'Termoeléctrica convencional', 'Combustión interna',\n",
              "       'Hidroeléctrica', 'Carboeléctrica', 'Eólica', 'Nucleoeléctrica',\n",
              "       'Bioenergía', 'Cogeneración Eficiente', 'Lecho Fluidizado'],\n",
              "      dtype=object)"
            ]
          },
          "metadata": {},
          "execution_count": 8
        }
      ]
    },
    {
      "cell_type": "markdown",
      "metadata": {
        "id": "G7ptfnlSvpf_"
      },
      "source": [
        "Hacemos uso del método pivot para crear una tabla donde las filas sean las tecnologías y las columnas sean las gerencias de control regional. y los valores serán la columna con las suma"
      ]
    },
    {
      "cell_type": "code",
      "metadata": {
        "id": "a1c4rT_qv3Zi"
      },
      "source": [
        "tech_plantas = plantas.groupby([\"Región de Control\",\"Tecnología\"])[\"Capacidad Firme (MW)\"].sum().reset_index()\n",
        "pd.options.display.max_rows = 999\n",
        "tech_plantas\n"
      ],
      "execution_count": null,
      "outputs": []
    },
    {
      "cell_type": "code",
      "metadata": {
        "id": "JElFrdpAGb2W"
      },
      "source": [
        "type(tech_plantas)"
      ],
      "execution_count": null,
      "outputs": []
    },
    {
      "cell_type": "markdown",
      "metadata": {
        "id": "LliB03DhMCiJ"
      },
      "source": [
        "Con esta función podemos ordenar nuestro dataframe de forma ascendente/descendete de acuerdo a los valores de una columna"
      ]
    },
    {
      "cell_type": "code",
      "metadata": {
        "id": "JkjT_H1Lw7he",
        "outputId": "5bf43471-dcd8-4207-adf9-d96d58b4b602",
        "colab": {
          "base_uri": "https://localhost:8080/",
          "height": 567
        }
      },
      "source": [
        "tech_pivot = tech_plantas.pivot(index=\"Tecnología\",columns=\"Región de Control\", values = \"Capacidad Firme (MW)\")\n",
        "tech_pivot"
      ],
      "execution_count": null,
      "outputs": [
        {
          "output_type": "execute_result",
          "data": {
            "text/html": [
              "\n",
              "  <div id=\"df-7f7fe5bf-2e1a-473f-a039-397a703181b1\">\n",
              "    <div class=\"colab-df-container\">\n",
              "      <div>\n",
              "<style scoped>\n",
              "    .dataframe tbody tr th:only-of-type {\n",
              "        vertical-align: middle;\n",
              "    }\n",
              "\n",
              "    .dataframe tbody tr th {\n",
              "        vertical-align: top;\n",
              "    }\n",
              "\n",
              "    .dataframe thead th {\n",
              "        text-align: right;\n",
              "    }\n",
              "</style>\n",
              "<table border=\"1\" class=\"dataframe\">\n",
              "  <thead>\n",
              "    <tr style=\"text-align: right;\">\n",
              "      <th>Región de Control</th>\n",
              "      <th>01-Central</th>\n",
              "      <th>02-Oriental</th>\n",
              "      <th>03-Occidental</th>\n",
              "      <th>04-Noroeste</th>\n",
              "      <th>05-Norte</th>\n",
              "      <th>06-Noreste</th>\n",
              "      <th>07-Penínsular</th>\n",
              "      <th>08-Baja California</th>\n",
              "      <th>09-Baja California Sur</th>\n",
              "      <th>10-Mulegé</th>\n",
              "    </tr>\n",
              "    <tr>\n",
              "      <th>Tecnología</th>\n",
              "      <th></th>\n",
              "      <th></th>\n",
              "      <th></th>\n",
              "      <th></th>\n",
              "      <th></th>\n",
              "      <th></th>\n",
              "      <th></th>\n",
              "      <th></th>\n",
              "      <th></th>\n",
              "      <th></th>\n",
              "    </tr>\n",
              "  </thead>\n",
              "  <tbody>\n",
              "    <tr>\n",
              "      <th>Bioenergía</th>\n",
              "      <td>34.0</td>\n",
              "      <td>217.0</td>\n",
              "      <td>153.0</td>\n",
              "      <td>NaN</td>\n",
              "      <td>11.0</td>\n",
              "      <td>58.0</td>\n",
              "      <td>12.0</td>\n",
              "      <td>NaN</td>\n",
              "      <td>NaN</td>\n",
              "      <td>NaN</td>\n",
              "    </tr>\n",
              "    <tr>\n",
              "      <th>Carboeléctrica</th>\n",
              "      <td>2579.0</td>\n",
              "      <td>NaN</td>\n",
              "      <td>NaN</td>\n",
              "      <td>NaN</td>\n",
              "      <td>NaN</td>\n",
              "      <td>2412.0</td>\n",
              "      <td>NaN</td>\n",
              "      <td>NaN</td>\n",
              "      <td>NaN</td>\n",
              "      <td>NaN</td>\n",
              "    </tr>\n",
              "    <tr>\n",
              "      <th>Ciclo combinado</th>\n",
              "      <td>783.0</td>\n",
              "      <td>3822.0</td>\n",
              "      <td>2535.0</td>\n",
              "      <td>1459.0</td>\n",
              "      <td>2742.0</td>\n",
              "      <td>9213.0</td>\n",
              "      <td>1348.0</td>\n",
              "      <td>1750.0</td>\n",
              "      <td>NaN</td>\n",
              "      <td>NaN</td>\n",
              "    </tr>\n",
              "    <tr>\n",
              "      <th>Cogeneración Eficiente</th>\n",
              "      <td>81.0</td>\n",
              "      <td>755.0</td>\n",
              "      <td>10.0</td>\n",
              "      <td>14.0</td>\n",
              "      <td>NaN</td>\n",
              "      <td>177.0</td>\n",
              "      <td>13.0</td>\n",
              "      <td>21.0</td>\n",
              "      <td>NaN</td>\n",
              "      <td>NaN</td>\n",
              "    </tr>\n",
              "    <tr>\n",
              "      <th>Combustión interna</th>\n",
              "      <td>28.0</td>\n",
              "      <td>103.0</td>\n",
              "      <td>107.0</td>\n",
              "      <td>10.0</td>\n",
              "      <td>61.0</td>\n",
              "      <td>117.0</td>\n",
              "      <td>5.0</td>\n",
              "      <td>5.0</td>\n",
              "      <td>304.0</td>\n",
              "      <td>39.0</td>\n",
              "    </tr>\n",
              "    <tr>\n",
              "      <th>Eólica</th>\n",
              "      <td>NaN</td>\n",
              "      <td>505.0</td>\n",
              "      <td>14.0</td>\n",
              "      <td>0.0</td>\n",
              "      <td>NaN</td>\n",
              "      <td>158.0</td>\n",
              "      <td>0.0</td>\n",
              "      <td>0.0</td>\n",
              "      <td>NaN</td>\n",
              "      <td>0.0</td>\n",
              "    </tr>\n",
              "    <tr>\n",
              "      <th>Geotérmica</th>\n",
              "      <td>NaN</td>\n",
              "      <td>65.0</td>\n",
              "      <td>247.0</td>\n",
              "      <td>NaN</td>\n",
              "      <td>NaN</td>\n",
              "      <td>NaN</td>\n",
              "      <td>NaN</td>\n",
              "      <td>541.0</td>\n",
              "      <td>NaN</td>\n",
              "      <td>10.0</td>\n",
              "    </tr>\n",
              "    <tr>\n",
              "      <th>Hidroeléctrica</th>\n",
              "      <td>1456.0</td>\n",
              "      <td>4900.0</td>\n",
              "      <td>2668.0</td>\n",
              "      <td>230.0</td>\n",
              "      <td>36.0</td>\n",
              "      <td>96.0</td>\n",
              "      <td>NaN</td>\n",
              "      <td>NaN</td>\n",
              "      <td>NaN</td>\n",
              "      <td>NaN</td>\n",
              "    </tr>\n",
              "    <tr>\n",
              "      <th>Lecho Fluidizado</th>\n",
              "      <td>NaN</td>\n",
              "      <td>NaN</td>\n",
              "      <td>NaN</td>\n",
              "      <td>NaN</td>\n",
              "      <td>NaN</td>\n",
              "      <td>538.0</td>\n",
              "      <td>NaN</td>\n",
              "      <td>NaN</td>\n",
              "      <td>NaN</td>\n",
              "      <td>NaN</td>\n",
              "    </tr>\n",
              "    <tr>\n",
              "      <th>Nucleoeléctrica</th>\n",
              "      <td>NaN</td>\n",
              "      <td>1552.0</td>\n",
              "      <td>NaN</td>\n",
              "      <td>NaN</td>\n",
              "      <td>NaN</td>\n",
              "      <td>NaN</td>\n",
              "      <td>NaN</td>\n",
              "      <td>NaN</td>\n",
              "      <td>NaN</td>\n",
              "      <td>NaN</td>\n",
              "    </tr>\n",
              "    <tr>\n",
              "      <th>Solar fotovoltaica</th>\n",
              "      <td>0.0</td>\n",
              "      <td>NaN</td>\n",
              "      <td>0.0</td>\n",
              "      <td>0.0</td>\n",
              "      <td>7.0</td>\n",
              "      <td>NaN</td>\n",
              "      <td>NaN</td>\n",
              "      <td>0.0</td>\n",
              "      <td>0.0</td>\n",
              "      <td>0.0</td>\n",
              "    </tr>\n",
              "    <tr>\n",
              "      <th>Termoeléctrica convencional</th>\n",
              "      <td>2021.0</td>\n",
              "      <td>2219.0</td>\n",
              "      <td>2521.0</td>\n",
              "      <td>1927.0</td>\n",
              "      <td>931.0</td>\n",
              "      <td>1031.0</td>\n",
              "      <td>329.0</td>\n",
              "      <td>294.0</td>\n",
              "      <td>105.0</td>\n",
              "      <td>NaN</td>\n",
              "    </tr>\n",
              "    <tr>\n",
              "      <th>Turbogás</th>\n",
              "      <td>555.0</td>\n",
              "      <td>334.0</td>\n",
              "      <td>338.0</td>\n",
              "      <td>65.0</td>\n",
              "      <td>155.0</td>\n",
              "      <td>718.0</td>\n",
              "      <td>377.0</td>\n",
              "      <td>404.0</td>\n",
              "      <td>310.0</td>\n",
              "      <td>53.0</td>\n",
              "    </tr>\n",
              "  </tbody>\n",
              "</table>\n",
              "</div>\n",
              "      <button class=\"colab-df-convert\" onclick=\"convertToInteractive('df-7f7fe5bf-2e1a-473f-a039-397a703181b1')\"\n",
              "              title=\"Convert this dataframe to an interactive table.\"\n",
              "              style=\"display:none;\">\n",
              "        \n",
              "  <svg xmlns=\"http://www.w3.org/2000/svg\" height=\"24px\"viewBox=\"0 0 24 24\"\n",
              "       width=\"24px\">\n",
              "    <path d=\"M0 0h24v24H0V0z\" fill=\"none\"/>\n",
              "    <path d=\"M18.56 5.44l.94 2.06.94-2.06 2.06-.94-2.06-.94-.94-2.06-.94 2.06-2.06.94zm-11 1L8.5 8.5l.94-2.06 2.06-.94-2.06-.94L8.5 2.5l-.94 2.06-2.06.94zm10 10l.94 2.06.94-2.06 2.06-.94-2.06-.94-.94-2.06-.94 2.06-2.06.94z\"/><path d=\"M17.41 7.96l-1.37-1.37c-.4-.4-.92-.59-1.43-.59-.52 0-1.04.2-1.43.59L10.3 9.45l-7.72 7.72c-.78.78-.78 2.05 0 2.83L4 21.41c.39.39.9.59 1.41.59.51 0 1.02-.2 1.41-.59l7.78-7.78 2.81-2.81c.8-.78.8-2.07 0-2.86zM5.41 20L4 18.59l7.72-7.72 1.47 1.35L5.41 20z\"/>\n",
              "  </svg>\n",
              "      </button>\n",
              "      \n",
              "  <style>\n",
              "    .colab-df-container {\n",
              "      display:flex;\n",
              "      flex-wrap:wrap;\n",
              "      gap: 12px;\n",
              "    }\n",
              "\n",
              "    .colab-df-convert {\n",
              "      background-color: #E8F0FE;\n",
              "      border: none;\n",
              "      border-radius: 50%;\n",
              "      cursor: pointer;\n",
              "      display: none;\n",
              "      fill: #1967D2;\n",
              "      height: 32px;\n",
              "      padding: 0 0 0 0;\n",
              "      width: 32px;\n",
              "    }\n",
              "\n",
              "    .colab-df-convert:hover {\n",
              "      background-color: #E2EBFA;\n",
              "      box-shadow: 0px 1px 2px rgba(60, 64, 67, 0.3), 0px 1px 3px 1px rgba(60, 64, 67, 0.15);\n",
              "      fill: #174EA6;\n",
              "    }\n",
              "\n",
              "    [theme=dark] .colab-df-convert {\n",
              "      background-color: #3B4455;\n",
              "      fill: #D2E3FC;\n",
              "    }\n",
              "\n",
              "    [theme=dark] .colab-df-convert:hover {\n",
              "      background-color: #434B5C;\n",
              "      box-shadow: 0px 1px 3px 1px rgba(0, 0, 0, 0.15);\n",
              "      filter: drop-shadow(0px 1px 2px rgba(0, 0, 0, 0.3));\n",
              "      fill: #FFFFFF;\n",
              "    }\n",
              "  </style>\n",
              "\n",
              "      <script>\n",
              "        const buttonEl =\n",
              "          document.querySelector('#df-7f7fe5bf-2e1a-473f-a039-397a703181b1 button.colab-df-convert');\n",
              "        buttonEl.style.display =\n",
              "          google.colab.kernel.accessAllowed ? 'block' : 'none';\n",
              "\n",
              "        async function convertToInteractive(key) {\n",
              "          const element = document.querySelector('#df-7f7fe5bf-2e1a-473f-a039-397a703181b1');\n",
              "          const dataTable =\n",
              "            await google.colab.kernel.invokeFunction('convertToInteractive',\n",
              "                                                     [key], {});\n",
              "          if (!dataTable) return;\n",
              "\n",
              "          const docLinkHtml = 'Like what you see? Visit the ' +\n",
              "            '<a target=\"_blank\" href=https://colab.research.google.com/notebooks/data_table.ipynb>data table notebook</a>'\n",
              "            + ' to learn more about interactive tables.';\n",
              "          element.innerHTML = '';\n",
              "          dataTable['output_type'] = 'display_data';\n",
              "          await google.colab.output.renderOutput(dataTable, element);\n",
              "          const docLink = document.createElement('div');\n",
              "          docLink.innerHTML = docLinkHtml;\n",
              "          element.appendChild(docLink);\n",
              "        }\n",
              "      </script>\n",
              "    </div>\n",
              "  </div>\n",
              "  "
            ],
            "text/plain": [
              "Región de Control            01-Central  ...  10-Mulegé\n",
              "Tecnología                               ...           \n",
              "Bioenergía                         34.0  ...        NaN\n",
              "Carboeléctrica                   2579.0  ...        NaN\n",
              "Ciclo combinado                   783.0  ...        NaN\n",
              "Cogeneración Eficiente             81.0  ...        NaN\n",
              "Combustión interna                 28.0  ...       39.0\n",
              "Eólica                              NaN  ...        0.0\n",
              "Geotérmica                          NaN  ...       10.0\n",
              "Hidroeléctrica                   1456.0  ...        NaN\n",
              "Lecho Fluidizado                    NaN  ...        NaN\n",
              "Nucleoeléctrica                     NaN  ...        NaN\n",
              "Solar fotovoltaica                  0.0  ...        0.0\n",
              "Termoeléctrica convencional      2021.0  ...        NaN\n",
              "Turbogás                          555.0  ...       53.0\n",
              "\n",
              "[13 rows x 10 columns]"
            ]
          },
          "metadata": {},
          "execution_count": 20
        }
      ]
    },
    {
      "cell_type": "code",
      "metadata": {
        "id": "yER_G8tIxklP"
      },
      "source": [
        "import seaborn as sns\n",
        "sns.heatmap(tech_pivot, cmap=\"Blues\")"
      ],
      "execution_count": null,
      "outputs": []
    },
    {
      "cell_type": "code",
      "source": [
        "plantas.columns"
      ],
      "metadata": {
        "id": "NRpfPi4sxg22"
      },
      "execution_count": null,
      "outputs": []
    },
    {
      "cell_type": "code",
      "source": [
        "plantas.sort_values(by = \"Régimen Térmico (GJ/MWh) 7/\", ascending= False)"
      ],
      "metadata": {
        "id": "UQwj9yIqxqEH"
      },
      "execution_count": null,
      "outputs": []
    },
    {
      "cell_type": "markdown",
      "metadata": {
        "id": "p9DnB3u8yg8U"
      },
      "source": [
        "Obtenemos un dataframe con los datos de capacidad instalada firme de ciclo combinado por GCR"
      ]
    },
    {
      "cell_type": "code",
      "metadata": {
        "id": "K7eot9f5yuhP",
        "outputId": "3f37797e-f443-4c80-be03-d7a4bb60dd81",
        "colab": {
          "base_uri": "https://localhost:8080/",
          "height": 300
        }
      },
      "source": [
        "ciclos = tech_plantas.loc[tech_plantas[\"Tecnología\"]== \"Ciclo combinado\"]\n",
        "ciclos"
      ],
      "execution_count": null,
      "outputs": [
        {
          "output_type": "execute_result",
          "data": {
            "text/html": [
              "\n",
              "  <div id=\"df-160a1302-4f88-411f-9be9-1a8aac316983\">\n",
              "    <div class=\"colab-df-container\">\n",
              "      <div>\n",
              "<style scoped>\n",
              "    .dataframe tbody tr th:only-of-type {\n",
              "        vertical-align: middle;\n",
              "    }\n",
              "\n",
              "    .dataframe tbody tr th {\n",
              "        vertical-align: top;\n",
              "    }\n",
              "\n",
              "    .dataframe thead th {\n",
              "        text-align: right;\n",
              "    }\n",
              "</style>\n",
              "<table border=\"1\" class=\"dataframe\">\n",
              "  <thead>\n",
              "    <tr style=\"text-align: right;\">\n",
              "      <th></th>\n",
              "      <th>Región de Control</th>\n",
              "      <th>Tecnología</th>\n",
              "      <th>Capacidad Firme (MW)</th>\n",
              "    </tr>\n",
              "  </thead>\n",
              "  <tbody>\n",
              "    <tr>\n",
              "      <th>2</th>\n",
              "      <td>01-Central</td>\n",
              "      <td>Ciclo combinado</td>\n",
              "      <td>783</td>\n",
              "    </tr>\n",
              "    <tr>\n",
              "      <th>10</th>\n",
              "      <td>02-Oriental</td>\n",
              "      <td>Ciclo combinado</td>\n",
              "      <td>3822</td>\n",
              "    </tr>\n",
              "    <tr>\n",
              "      <th>20</th>\n",
              "      <td>03-Occidental</td>\n",
              "      <td>Ciclo combinado</td>\n",
              "      <td>2535</td>\n",
              "    </tr>\n",
              "    <tr>\n",
              "      <th>29</th>\n",
              "      <td>04-Noroeste</td>\n",
              "      <td>Ciclo combinado</td>\n",
              "      <td>1459</td>\n",
              "    </tr>\n",
              "    <tr>\n",
              "      <th>38</th>\n",
              "      <td>05-Norte</td>\n",
              "      <td>Ciclo combinado</td>\n",
              "      <td>2742</td>\n",
              "    </tr>\n",
              "    <tr>\n",
              "      <th>46</th>\n",
              "      <td>06-Noreste</td>\n",
              "      <td>Ciclo combinado</td>\n",
              "      <td>9213</td>\n",
              "    </tr>\n",
              "    <tr>\n",
              "      <th>55</th>\n",
              "      <td>07-Penínsular</td>\n",
              "      <td>Ciclo combinado</td>\n",
              "      <td>1348</td>\n",
              "    </tr>\n",
              "    <tr>\n",
              "      <th>61</th>\n",
              "      <td>08-Baja California</td>\n",
              "      <td>Ciclo combinado</td>\n",
              "      <td>1750</td>\n",
              "    </tr>\n",
              "  </tbody>\n",
              "</table>\n",
              "</div>\n",
              "      <button class=\"colab-df-convert\" onclick=\"convertToInteractive('df-160a1302-4f88-411f-9be9-1a8aac316983')\"\n",
              "              title=\"Convert this dataframe to an interactive table.\"\n",
              "              style=\"display:none;\">\n",
              "        \n",
              "  <svg xmlns=\"http://www.w3.org/2000/svg\" height=\"24px\"viewBox=\"0 0 24 24\"\n",
              "       width=\"24px\">\n",
              "    <path d=\"M0 0h24v24H0V0z\" fill=\"none\"/>\n",
              "    <path d=\"M18.56 5.44l.94 2.06.94-2.06 2.06-.94-2.06-.94-.94-2.06-.94 2.06-2.06.94zm-11 1L8.5 8.5l.94-2.06 2.06-.94-2.06-.94L8.5 2.5l-.94 2.06-2.06.94zm10 10l.94 2.06.94-2.06 2.06-.94-2.06-.94-.94-2.06-.94 2.06-2.06.94z\"/><path d=\"M17.41 7.96l-1.37-1.37c-.4-.4-.92-.59-1.43-.59-.52 0-1.04.2-1.43.59L10.3 9.45l-7.72 7.72c-.78.78-.78 2.05 0 2.83L4 21.41c.39.39.9.59 1.41.59.51 0 1.02-.2 1.41-.59l7.78-7.78 2.81-2.81c.8-.78.8-2.07 0-2.86zM5.41 20L4 18.59l7.72-7.72 1.47 1.35L5.41 20z\"/>\n",
              "  </svg>\n",
              "      </button>\n",
              "      \n",
              "  <style>\n",
              "    .colab-df-container {\n",
              "      display:flex;\n",
              "      flex-wrap:wrap;\n",
              "      gap: 12px;\n",
              "    }\n",
              "\n",
              "    .colab-df-convert {\n",
              "      background-color: #E8F0FE;\n",
              "      border: none;\n",
              "      border-radius: 50%;\n",
              "      cursor: pointer;\n",
              "      display: none;\n",
              "      fill: #1967D2;\n",
              "      height: 32px;\n",
              "      padding: 0 0 0 0;\n",
              "      width: 32px;\n",
              "    }\n",
              "\n",
              "    .colab-df-convert:hover {\n",
              "      background-color: #E2EBFA;\n",
              "      box-shadow: 0px 1px 2px rgba(60, 64, 67, 0.3), 0px 1px 3px 1px rgba(60, 64, 67, 0.15);\n",
              "      fill: #174EA6;\n",
              "    }\n",
              "\n",
              "    [theme=dark] .colab-df-convert {\n",
              "      background-color: #3B4455;\n",
              "      fill: #D2E3FC;\n",
              "    }\n",
              "\n",
              "    [theme=dark] .colab-df-convert:hover {\n",
              "      background-color: #434B5C;\n",
              "      box-shadow: 0px 1px 3px 1px rgba(0, 0, 0, 0.15);\n",
              "      filter: drop-shadow(0px 1px 2px rgba(0, 0, 0, 0.3));\n",
              "      fill: #FFFFFF;\n",
              "    }\n",
              "  </style>\n",
              "\n",
              "      <script>\n",
              "        const buttonEl =\n",
              "          document.querySelector('#df-160a1302-4f88-411f-9be9-1a8aac316983 button.colab-df-convert');\n",
              "        buttonEl.style.display =\n",
              "          google.colab.kernel.accessAllowed ? 'block' : 'none';\n",
              "\n",
              "        async function convertToInteractive(key) {\n",
              "          const element = document.querySelector('#df-160a1302-4f88-411f-9be9-1a8aac316983');\n",
              "          const dataTable =\n",
              "            await google.colab.kernel.invokeFunction('convertToInteractive',\n",
              "                                                     [key], {});\n",
              "          if (!dataTable) return;\n",
              "\n",
              "          const docLinkHtml = 'Like what you see? Visit the ' +\n",
              "            '<a target=\"_blank\" href=https://colab.research.google.com/notebooks/data_table.ipynb>data table notebook</a>'\n",
              "            + ' to learn more about interactive tables.';\n",
              "          element.innerHTML = '';\n",
              "          dataTable['output_type'] = 'display_data';\n",
              "          await google.colab.output.renderOutput(dataTable, element);\n",
              "          const docLink = document.createElement('div');\n",
              "          docLink.innerHTML = docLinkHtml;\n",
              "          element.appendChild(docLink);\n",
              "        }\n",
              "      </script>\n",
              "    </div>\n",
              "  </div>\n",
              "  "
            ],
            "text/plain": [
              "     Región de Control       Tecnología  Capacidad Firme (MW)\n",
              "2           01-Central  Ciclo combinado                   783\n",
              "10         02-Oriental  Ciclo combinado                  3822\n",
              "20       03-Occidental  Ciclo combinado                  2535\n",
              "29         04-Noroeste  Ciclo combinado                  1459\n",
              "38            05-Norte  Ciclo combinado                  2742\n",
              "46          06-Noreste  Ciclo combinado                  9213\n",
              "55       07-Penínsular  Ciclo combinado                  1348\n",
              "61  08-Baja California  Ciclo combinado                  1750"
            ]
          },
          "metadata": {},
          "execution_count": 27
        }
      ]
    },
    {
      "cell_type": "markdown",
      "metadata": {
        "id": "MqHOmi3r0L3m"
      },
      "source": [
        "## Barplot"
      ]
    },
    {
      "cell_type": "markdown",
      "metadata": {
        "id": "H9XaZpFoDo-Y"
      },
      "source": [
        "Quiero obtener una gráfica de barras (barchart) para conocer la capacidad firme de ciclo combinado existente en cada GCR"
      ]
    },
    {
      "cell_type": "code",
      "metadata": {
        "id": "X8C71-Dcy2uM"
      },
      "source": [
        "import matplotlib.pyplot as plt"
      ],
      "execution_count": null,
      "outputs": []
    },
    {
      "cell_type": "code",
      "source": [
        "plt.bar(ciclos[\"Región de Control\"], ciclos[\"Capacidad Firme (MW)\"])\n",
        "plt.xticks(rotation = 90)\n",
        "plt.show"
      ],
      "metadata": {
        "id": "Z21HeQAoy4O-"
      },
      "execution_count": null,
      "outputs": []
    },
    {
      "cell_type": "markdown",
      "metadata": {
        "id": "GISgD_mYD3gD"
      },
      "source": [
        "Obtenemos una gráfica de pastel (piechart) que refleje de igual manera la capacidad firme de ciclo combinado por GCR"
      ]
    },
    {
      "cell_type": "code",
      "metadata": {
        "id": "Vmk_vy5vzaMH",
        "outputId": "f01b6d7c-9c33-4345-8a1c-3a5f36da3a9d",
        "colab": {
          "base_uri": "https://localhost:8080/",
          "height": 526
        }
      },
      "source": [
        "plt.pie(ciclos[\"Capacidad Firme (MW)\"], labels = ciclos[\"Región de Control\"])"
      ],
      "execution_count": null,
      "outputs": [
        {
          "output_type": "execute_result",
          "data": {
            "text/plain": [
              "([<matplotlib.patches.Wedge at 0x7fe445acd9d0>,\n",
              "  <matplotlib.patches.Wedge at 0x7fe445acddd0>,\n",
              "  <matplotlib.patches.Wedge at 0x7fe445a5ebd0>,\n",
              "  <matplotlib.patches.Wedge at 0x7fe445a5e190>,\n",
              "  <matplotlib.patches.Wedge at 0x7fe445ab6510>,\n",
              "  <matplotlib.patches.Wedge at 0x7fe445a16190>,\n",
              "  <matplotlib.patches.Wedge at 0x7fe445a16490>,\n",
              "  <matplotlib.patches.Wedge at 0x7fe445a16550>],\n",
              " [Text(1.0940562746936544, 0.11419661905434568, '01-Central'),\n",
              "  Text(0.8301230329643995, 0.7217310788250612, '02-Oriental'),\n",
              "  Text(0.01183457062196691, 1.0999363358568504, '03-Occidental'),\n",
              "  Text(-0.5463264283135899, 0.9547394585572109, '04-Noroeste'),\n",
              "  Text(-0.9689832456840185, 0.520645243504313, '05-Norte'),\n",
              "  Text(-0.5039665705267418, -0.9777615741025594, '06-Noreste'),\n",
              "  Text(0.8797110040420915, -0.6603851522916422, '07-Penínsular'),\n",
              "  Text(1.0704167069508408, -0.2533931204285503, '08-Baja California')])"
            ]
          },
          "metadata": {},
          "execution_count": 36
        },
        {
          "output_type": "display_data",
          "data": {
            "image/png": "[encoded data removed]",
            "text/plain": [
              "<Figure size 432x288 with 1 Axes>"
            ]
          },
          "metadata": {}
        }
      ]
    },
    {
      "cell_type": "markdown",
      "metadata": {
        "id": "G8k40KpitTU2"
      },
      "source": [
        "# Plotly: Gráficos interactivas"
      ]
    },
    {
      "cell_type": "code",
      "metadata": {
        "id": "Fd327nVo51sq"
      },
      "source": [
        "import plotly.express as px\n",
        "px.pie(ciclos, values = \"Capacidad Firme (MW)\", names = \"Región de Control\", title = \"Capacidad de Ciclo Combinado\")"
      ],
      "execution_count": null,
      "outputs": []
    },
    {
      "cell_type": "code",
      "metadata": {
        "id": "kh-26zbE8O4O"
      },
      "source": [
        ""
      ],
      "execution_count": null,
      "outputs": []
    }
  ]
}