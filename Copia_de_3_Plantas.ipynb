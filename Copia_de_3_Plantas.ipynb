{
  "nbformat": 4,
  "nbformat_minor": 0,
  "metadata": {
    "colab": {
      "name": "Copia de 3_Plantas.ipynb",
      "provenance": [],
      "collapsed_sections": [],
      "include_colab_link": true
    },
    "kernelspec": {
      "name": "python3",
      "display_name": "Python 3"
    },
    "language_info": {
      "name": "python"
    }
  },
  "cells": [
    {
      "cell_type": "markdown",
      "metadata": {
        "id": "view-in-github",
        "colab_type": "text"
      },
      "source": [
        "<a href=\"https://colab.research.google.com/github/lups0208/datasciencecoursera/blob/master/Copia_de_3_Plantas.ipynb\" target=\"_parent\"><img src=\"https://colab.research.google.com/assets/colab-badge.svg\" alt=\"Open In Colab\"/></a>"
      ]
    },
    {
      "cell_type": "code",
      "metadata": {
        "id": "bfTClCASpO_f"
      },
      "source": [
        "import pandas as pd"
      ],
      "execution_count": 2,
      "outputs": []
    },
    {
      "cell_type": "markdown",
      "metadata": {
        "id": "-wZ_3q0kpvN1"
      },
      "source": [
        "Se provee de una base de datos de plantas (actualizada hasta 2018). Cada fila es una planta. Los datos son a nivel SEN. Incluye BC y BCS"
      ]
    },
    {
      "cell_type": "code",
      "metadata": {
        "id": "scg63MqGp-u8"
      },
      "source": [
        "plantas = pd.read_excel('https://github.com/IvanMGro/CENACE/raw/main/BDGPIIRCE.xlsx')"
      ],
      "execution_count": 3,
      "outputs": []
    },
    {
      "cell_type": "code",
      "source": [
        "plantas"
      ],
      "metadata": {
        "id": "HYzLqODYr5HN"
      },
      "execution_count": null,
      "outputs": []
    },
    {
      "cell_type": "markdown",
      "metadata": {
        "id": "mo3UTyaosSsS"
      },
      "source": [
        "Quiero conocer los combustibles utilizados en México"
      ]
    },
    {
      "cell_type": "code",
      "metadata": {
        "id": "VHA6IU6ZsBYz"
      },
      "source": [
        "plantas[\"Combustible\"].unique()"
      ],
      "execution_count": null,
      "outputs": []
    },
    {
      "cell_type": "markdown",
      "metadata": {
        "id": "FHUQFChTsX-2"
      },
      "source": [
        "Quiero conocer las tecnologías existentes en México\n"
      ]
    },
    {
      "cell_type": "code",
      "metadata": {
        "id": "0lIvzoJWsbsb",
        "outputId": "0ea9eebf-3a16-451b-cc9e-ed3a5b1bbdb3",
        "colab": {
          "base_uri": "https://localhost:8080/"
        }
      },
      "source": [
        "plantas[\"Tecnología\"].unique()"
      ],
      "execution_count": 6,
      "outputs": [
        {
          "output_type": "execute_result",
          "data": {
            "text/plain": [
              "array(['Ciclo Combinado', 'Geotérmica', 'Solar fotovoltaica', 'Turbogás',\n",
              "       'Ciclo combinado', 'Termoeléctrica convencional',\n",
              "       'Combustión Interna', 'Hidroeléctrica', 'Carboeléctrica', 'Eólica',\n",
              "       'Nucleoeléctrica', 'Bioenergía', 'Termoeléctrica Convencional',\n",
              "       'Cogeneración Eficiente', 'Combustión interna', 'Lecho Fluidizado'],\n",
              "      dtype=object)"
            ]
          },
          "metadata": {},
          "execution_count": 6
        }
      ]
    },
    {
      "cell_type": "markdown",
      "metadata": {
        "id": "7J7s0Du9tXx8"
      },
      "source": [
        "Para reemplazar una mala etiqueta podemos hacer uso del siguiente método. El primer argumento es la etiqueta mala y el segundo argumento es la etiqueta por la que quiero cambiar"
      ]
    },
    {
      "cell_type": "code",
      "metadata": {
        "id": "YYToWn0Lt24E"
      },
      "source": [
        "plantas.replace(\"Ciclo Combinado\",\"Ciclo combinado\",inplace=True)\n",
        "plantas.replace(\"Termoeléctrica Convencional\",\"Termoeléctrica convencional\",inplace=True)\n",
        "plantas.replace(\"Combustión Interna\",\"Combustión interna\",inplace=True)"
      ],
      "execution_count": 7,
      "outputs": []
    },
    {
      "cell_type": "markdown",
      "metadata": {
        "id": "YX2B1OsMuxAE"
      },
      "source": [
        "Quiero conocer la cantidad de MW Instalados por Tecnología en cada gerencia de control regional"
      ]
    },
    {
      "cell_type": "code",
      "metadata": {
        "id": "1uP64YMcu0t_",
        "outputId": "8a490a87-ff12-46a0-aba6-8f80b7c9f6d2",
        "colab": {
          "base_uri": "https://localhost:8080/"
        }
      },
      "source": [
        "plantas[\"Tecnología\"].unique()"
      ],
      "execution_count": 8,
      "outputs": [
        {
          "output_type": "execute_result",
          "data": {
            "text/plain": [
              "array(['Ciclo combinado', 'Geotérmica', 'Solar fotovoltaica', 'Turbogás',\n",
              "       'Termoeléctrica convencional', 'Combustión interna',\n",
              "       'Hidroeléctrica', 'Carboeléctrica', 'Eólica', 'Nucleoeléctrica',\n",
              "       'Bioenergía', 'Cogeneración Eficiente', 'Lecho Fluidizado'],\n",
              "      dtype=object)"
            ]
          },
          "metadata": {},
          "execution_count": 8
        }
      ]
    },
    {
      "cell_type": "markdown",
      "metadata": {
        "id": "G7ptfnlSvpf_"
      },
      "source": [
        "Hacemos uso del método pivot para crear una tabla donde las filas sean las tecnologías y las columnas sean las gerencias de control regional. y los valores serán la columna con las suma"
      ]
    },
    {
      "cell_type": "code",
      "metadata": {
        "id": "a1c4rT_qv3Zi"
      },
      "source": [
        "tech_plantas = plantas.groupby([\"Región de Control\",\"Tecnología\"])[\"Capacidad Firme (MW)\"].sum().reset_index()\n",
        "pd.options.display.max_rows = 999\n",
        "tech_plantas\n"
      ],
      "execution_count": null,
      "outputs": []
    },
    {
      "cell_type": "code",
      "metadata": {
        "id": "JElFrdpAGb2W",
        "colab": {
          "base_uri": "https://localhost:8080/"
        },
        "outputId": "4398103c-39c3-4c6b-9f8c-fa37a33df35a"
      },
      "source": [
        "type(tech_plantas)"
      ],
      "execution_count": 10,
      "outputs": [
        {
          "output_type": "execute_result",
          "data": {
            "text/plain": [
              "pandas.core.frame.DataFrame"
            ]
          },
          "metadata": {},
          "execution_count": 10
        }
      ]
    },
    {
      "cell_type": "markdown",
      "metadata": {
        "id": "LliB03DhMCiJ"
      },
      "source": [
        "Con esta función podemos ordenar nuestro dataframe de forma ascendente/descendete de acuerdo a los valores de una columna"
      ]
    },
    {
      "cell_type": "code",
      "metadata": {
        "id": "JkjT_H1Lw7he"
      },
      "source": [
        "tech_pivot = tech_plantas.pivot(index=\"Tecnología\",columns=\"Región de Control\", values = \"Capacidad Firme (MW)\")\n",
        "tech_pivot"
      ],
      "execution_count": null,
      "outputs": []
    },
    {
      "cell_type": "code",
      "metadata": {
        "id": "yER_G8tIxklP",
        "colab": {
          "base_uri": "https://localhost:8080/",
          "height": 395
        },
        "outputId": "86b0c0ac-f145-4211-9ce1-ce28ae1d7700"
      },
      "source": [
        "import seaborn as sns\n",
        "sns.heatmap(tech_pivot, cmap=\"Blues\")"
      ],
      "execution_count": 12,
      "outputs": [
        {
          "output_type": "execute_result",
          "data": {
            "text/plain": [
              "<matplotlib.axes._subplots.AxesSubplot at 0x7faaacb50550>"
            ]
          },
          "metadata": {},
          "execution_count": 12
        },
        {
          "output_type": "display_data",
          "data": {
            "image/png": "[encoded data removed]",
            "text/plain": [
              "<Figure size 432x288 with 2 Axes>"
            ]
          },
          "metadata": {
            "needs_background": "light"
          }
        }
      ]
    },
    {
      "cell_type": "code",
      "source": [
        "plantas.columns"
      ],
      "metadata": {
        "id": "NRpfPi4sxg22"
      },
      "execution_count": null,
      "outputs": []
    },
    {
      "cell_type": "code",
      "source": [
        "plantas.sort_values(by = \"Régimen Térmico (GJ/MWh) 7/\", ascending= False)"
      ],
      "metadata": {
        "id": "UQwj9yIqxqEH"
      },
      "execution_count": null,
      "outputs": []
    },
    {
      "cell_type": "markdown",
      "metadata": {
        "id": "p9DnB3u8yg8U"
      },
      "source": [
        "Obtenemos un dataframe con los datos de capacidad instalada firme de ciclo combinado por GCR"
      ]
    },
    {
      "cell_type": "code",
      "metadata": {
        "id": "K7eot9f5yuhP"
      },
      "source": [
        "ciclos = tech_plantas.loc[tech_plantas[\"Tecnología\"]== \"Ciclo combinado\"]\n",
        "ciclos"
      ],
      "execution_count": null,
      "outputs": []
    },
    {
      "cell_type": "markdown",
      "metadata": {
        "id": "MqHOmi3r0L3m"
      },
      "source": [
        "## Barplot"
      ]
    },
    {
      "cell_type": "markdown",
      "metadata": {
        "id": "H9XaZpFoDo-Y"
      },
      "source": [
        "Quiero obtener una gráfica de barras (barchart) para conocer la capacidad firme de ciclo combinado existente en cada GCR"
      ]
    },
    {
      "cell_type": "code",
      "metadata": {
        "id": "X8C71-Dcy2uM"
      },
      "source": [
        "import matplotlib.pyplot as plt"
      ],
      "execution_count": 16,
      "outputs": []
    },
    {
      "cell_type": "code",
      "source": [
        "plt.bar(ciclos[\"Región de Control\"], ciclos[\"Capacidad Firme (MW)\"])\n",
        "plt.xticks(rotation = 90)\n",
        "plt.show"
      ],
      "metadata": {
        "id": "Z21HeQAoy4O-"
      },
      "execution_count": null,
      "outputs": []
    },
    {
      "cell_type": "markdown",
      "metadata": {
        "id": "GISgD_mYD3gD"
      },
      "source": [
        "Obtenemos una gráfica de pastel (piechart) que refleje de igual manera la capacidad firme de ciclo combinado por GCR"
      ]
    },
    {
      "cell_type": "code",
      "metadata": {
        "id": "Vmk_vy5vzaMH"
      },
      "source": [
        "plt.pie(ciclos[\"Capacidad Firme (MW)\"], labels = ciclos[\"Región de Control\"])"
      ],
      "execution_count": null,
      "outputs": []
    },
    {
      "cell_type": "markdown",
      "metadata": {
        "id": "G8k40KpitTU2"
      },
      "source": [
        "# Plotly: Gráficos interactivas"
      ]
    },
    {
      "cell_type": "code",
      "metadata": {
        "id": "Fd327nVo51sq"
      },
      "source": [
        "import plotly.express as px\n",
        "px.pie(ciclos, values = \"Capacidad Firme (MW)\", names = \"Región de Control\", title = \"Capacidad de Ciclo Combinado\")"
      ],
      "execution_count": null,
      "outputs": []
    },
    {
      "cell_type": "code",
      "metadata": {
        "id": "kh-26zbE8O4O"
      },
      "source": [
        "px.bar(ciclos, x = \"Capacidad Firme (MW)\", y = \"Región de Control\")"
      ],
      "execution_count": null,
      "outputs": []
    }
  ]
}